{
 "cells": [
  {
   "cell_type": "code",
   "execution_count": 2,
   "metadata": {},
   "outputs": [
    {
     "name": "stdout",
     "output_type": "stream",
     "text": [
      "{'EB4350': 39601, 'AL4358': 11668, 'AL4521': 10470, 'AT3482': 2656, 'KR3579': 1900}\n"
     ]
    }
   ],
   "source": [
    "import re\n",
    "from collections import defaultdict\n",
    "match_counts = defaultdict(int)\n",
    "\n",
    "with open('tracking_log.txt', 'r') as file:\n",
    "    content = file.read()\n",
    "\n",
    "pattern = r'from (.*) with'\n",
    "matches = re.findall(pattern, content)\n",
    "\n",
    "for match in matches:\n",
    "    match_counts[match] += 1\n",
    "\n",
    "match_counts_dict = dict(match_counts)\n",
    "\n",
    "sorted_items = sorted(match_counts_dict.items(), key=lambda item: item[1], reverse=True)\n",
    "\n",
    "top_5 = {}\n",
    "counter = 0\n",
    "\n",
    "while counter < len(sorted_items) and counter < 5:\n",
    "    team, count = sorted_items[counter]\n",
    "    \n",
    "    top_5[team] = count\n",
    "    \n",
    "    counter += 1\n",
    "\n",
    "print(top_5)\n"
   ]
  },
  {
   "cell_type": "code",
   "execution_count": 1,
   "metadata": {},
   "outputs": [
    {
     "name": "stdout",
     "output_type": "stream",
     "text": [
      "{'EB4350': 39601, 'AL4358': 11668, 'AL4521': 10470, 'AT3482': 2656, 'KR3579': 1900}\n"
     ]
    }
   ],
   "source": [
    "file1 = open('tracking_log.txt', 'r')\n",
    "temp = {}\n",
    "for line in file1:\n",
    "    # print(line.split()[6])\n",
    "    name=line.split()[6]\n",
    "    if name in temp.keys():\n",
    "        temp[name] = temp[name] + 1\n",
    "    else:\n",
    "        temp[name] = 1\n",
    "\n",
    "sorted_items = sorted(temp.items(), key=lambda item: item[1], reverse=True)\n",
    "\n",
    "top_5 = {}\n",
    "counter = 0\n",
    "\n",
    "while counter < len(sorted_items) and counter < 5:\n",
    "    team, count = sorted_items[counter]\n",
    "    top_5[team] = count\n",
    "    counter += 1\n",
    "\n",
    "print(top_5)\n",
    "\n",
    "\n",
    "\n",
    "\n"
   ]
  },
  {
   "cell_type": "code",
   "execution_count": null,
   "metadata": {},
   "outputs": [
    {
     "name": "stdout",
     "output_type": "stream",
     "text": [
      "{'EB4350': 39601, 'AL4358': 11668, 'AL4521': 10470, 'AT3482': 2656, 'KR3579': 1900}\n"
     ]
    }
   ],
   "source": [
    "import re\n",
    "from collections import defaultdict\n",
    "match_counts = defaultdict(int)\n",
    "\n",
    "def read_file():\n",
    "    with open('tracking_log.txt', 'r') as file:\n",
    "        return file.read()\n",
    "\n",
    "def find_matches(content, pattern):\n",
    "    return re.findall(pattern, content)\n",
    "\n",
    "\n",
    "def count_matches(matches):\n",
    "    match_counts = defaultdict(int)\n",
    "    for match in matches:\n",
    "        match_counts[match] += 1\n",
    "    return match_counts\n",
    "\n",
    "def get_top_matches(match_counts, top_n=5):\n",
    "    sorted_items = sorted(match_counts.items(), key=lambda item: item[1], reverse=True)\n",
    "    top_matches = defaultdict(int)\n",
    "    counter = 0\n",
    "    while counter < len(sorted_items) and counter < top_n:\n",
    "        team, count = sorted_items[counter]\n",
    "        top_matches[team] = count\n",
    "        counter += 1\n",
    "    return top_matches\n",
    "\n",
    "\n",
    "content = read_file()\n",
    "pattern = r'from (.*) with'\n",
    "matches = find_matches(content, pattern)\n",
    "match_counts = count_matches(matches)\n",
    "top_5 = get_top_matches(match_counts)\n",
    "\n",
    "print(dict(top_5))\n"
   ]
  },
  {
   "cell_type": "code",
   "execution_count": null,
   "metadata": {},
   "outputs": [],
   "source": []
  }
 ],
 "metadata": {
  "kernelspec": {
   "display_name": "Python 3",
   "language": "python",
   "name": "python3"
  },
  "language_info": {
   "codemirror_mode": {
    "name": "ipython",
    "version": 3
   },
   "file_extension": ".py",
   "mimetype": "text/x-python",
   "name": "python",
   "nbconvert_exporter": "python",
   "pygments_lexer": "ipython3",
   "version": "3.8.10"
  }
 },
 "nbformat": 4,
 "nbformat_minor": 2
}
