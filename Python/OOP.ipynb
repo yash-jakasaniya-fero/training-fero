{
 "cells": [
  {
   "cell_type": "markdown",
   "metadata": {},
   "source": [
    "Data Structures in Python"
   ]
  },
  {
   "cell_type": "code",
   "execution_count": 10,
   "metadata": {},
   "outputs": [
    {
     "name": "stdout",
     "output_type": "stream",
     "text": [
      "[10, 20, 30, 40]\n",
      "['apple', 'banana', 'cherry']\n",
      "<class 'list'>\n"
     ]
    }
   ],
   "source": [
    "#Lists\n",
    "numbers = [10, 20, 30, 40]\n",
    "print(numbers)\n",
    "\n",
    "fruits = [\"apple\", \"banana\", \"cherry\"]\n",
    "print(fruits)\n",
    "\n",
    "print(type(numbers))\n"
   ]
  },
  {
   "cell_type": "code",
   "execution_count": 8,
   "metadata": {},
   "outputs": [
    {
     "name": "stdout",
     "output_type": "stream",
     "text": [
      "['apple', 'banana', 'cherry', 'orange']\n",
      "['apple', 'blueberry', 'cherry', 'orange']\n"
     ]
    }
   ],
   "source": [
    "fruits.append(\"orange\")\n",
    "print(fruits)\n",
    "\n",
    "fruits[1] = \"blueberry\"\n",
    "print(fruits)"
   ]
  },
  {
   "cell_type": "code",
   "execution_count": 9,
   "metadata": {},
   "outputs": [
    {
     "name": "stdout",
     "output_type": "stream",
     "text": [
      "(10, 20, 30)\n",
      "('red', 'green', 'blue')\n",
      "<class 'tuple'>\n"
     ]
    }
   ],
   "source": [
    "#Tuples\n",
    "coordinates = (10, 20, 30)\n",
    "print(coordinates)\n",
    "\n",
    "colors = (\"red\", \"green\", \"blue\")\n",
    "print(colors)\n",
    "\n",
    "print(type(coordinates))"
   ]
  },
  {
   "cell_type": "code",
   "execution_count": 14,
   "metadata": {},
   "outputs": [
    {
     "name": "stdout",
     "output_type": "stream",
     "text": [
      "{'name': 'John', 'age': 30, 'position': 'Manager'}\n",
      "John\n",
      "<class 'dict'>\n"
     ]
    }
   ],
   "source": [
    "#Dictionaries\n",
    "employee = {\"name\": \"John\", \"age\": 30, \"position\": \"Manager\"}\n",
    "print(employee)\n",
    "print(employee[\"name\"])\n",
    "print(type(employee))"
   ]
  },
  {
   "cell_type": "code",
   "execution_count": 15,
   "metadata": {},
   "outputs": [
    {
     "name": "stdout",
     "output_type": "stream",
     "text": [
      "{'name': 'John', 'age': 30, 'position': 'Manager', 'salary': 50000}\n",
      "{'name': 'John', 'age': 31, 'position': 'Manager', 'salary': 50000}\n",
      "{'name': 'John', 'age': 31, 'salary': 50000}\n"
     ]
    }
   ],
   "source": [
    "employee[\"salary\"] = 50000\n",
    "print(employee)\n",
    "\n",
    "employee[\"age\"] = 31\n",
    "print(employee)\n",
    "\n",
    "del employee[\"position\"]\n",
    "print(employee)"
   ]
  },
  {
   "cell_type": "code",
   "execution_count": 4,
   "metadata": {},
   "outputs": [
    {
     "name": "stdout",
     "output_type": "stream",
     "text": [
      "Area: 78.53981633974483\n",
      "Circumference: 31.41592653589793\n"
     ]
    }
   ],
   "source": [
    "import math\n",
    "\n",
    "class Circle:\n",
    "    def __init__(self, radius):\n",
    "        self.radius = radius\n",
    "\n",
    "    def area(self):\n",
    "        return math.pi * self.radius ** 2\n",
    "\n",
    "    def circumference(self):\n",
    "        return 2 * math.pi * self.radius\n",
    "\n",
    "\n",
    "circle1 = Circle(5)\n",
    "print(\"Area:\", circle1.area())\n",
    "print(\"Circumference:\", circle1.circumference())"
   ]
  },
  {
   "cell_type": "code",
   "execution_count": 3,
   "metadata": {},
   "outputs": [
    {
     "name": "stdout",
     "output_type": "stream",
     "text": [
      "Name: AA\n",
      "Age: 20\n",
      "Grade: Not Assigned\n",
      "Name: BB\n",
      "Age: 22\n",
      "Grade: A\n",
      "\n"
     ]
    }
   ],
   "source": [
    "class Student:\n",
    "    def __init__(self, name, age, grade=\"Not Assigned\"):\n",
    "        self.name = name\n",
    "        self.age = age\n",
    "        self.grade = grade\n",
    "\n",
    "    def display_info(self):\n",
    "        print(f\"Name: {self.name}\")\n",
    "        print(f\"Age: {self.age}\")\n",
    "        print(f\"Grade: {self.grade}\")\n",
    "\n",
    "student1 = Student(\"AA\", 20)\n",
    "student2 = Student(\"BB\", 22, \"A\")\n",
    "\n",
    "student1.display_info()  \n",
    "student2.display_info()\n",
    "\n",
    "print()"
   ]
  },
  {
   "cell_type": "code",
   "execution_count": 1,
   "metadata": {},
   "outputs": [
    {
     "name": "stdout",
     "output_type": "stream",
     "text": [
      "Current balance: 0\n",
      "Deposited 15000. Current balance: 15000\n",
      "Withdrew 200. Current balance: 14800\n",
      "Current balance: 14800\n",
      "Withdrew 400. Current balance: 14400\n",
      "Current balance: 14400\n"
     ]
    }
   ],
   "source": [
    "class BankAccount:\n",
    "    def __init__(self, account_number, balance=0):\n",
    "        self.account_number = account_number\n",
    "        self.balance = balance\n",
    "\n",
    "    def deposit(self, amount):\n",
    "        \"\"\"Adds amount to the balance.\"\"\"\n",
    "        if amount > 0:\n",
    "            self.balance += amount\n",
    "            print(f\"Deposited {amount}. Current balance: {self.balance}\")\n",
    "        else:\n",
    "            print(\"Deposit amount must be positive.\")\n",
    "\n",
    "    def withdraw(self, amount):\n",
    "        \"\"\"Deducts amount from the balance if sufficient balance exists.\"\"\"\n",
    "        if amount > 0:\n",
    "            if self.balance >= amount:\n",
    "                self.balance -= amount\n",
    "                print(f\"Withdrew {amount}. Current balance: {self.balance}\")\n",
    "            else:\n",
    "                print(\"Insufficient balance.\")\n",
    "        else:\n",
    "            print(\"Withdrawal amount must be positive.\")\n",
    "\n",
    "    def check_balance(self):\n",
    "        \"\"\"Prints the current balance.\"\"\"\n",
    "        print(f\"Current balance: {self.balance}\")\n",
    "\n",
    "\n",
    "account = BankAccount(2553214)\n",
    "account.check_balance()\n",
    "account.deposit(15000)\n",
    "account.withdraw(200)\n",
    "account.check_balance()\n",
    "account.withdraw(400)\n",
    "account.check_balance()\n"
   ]
  },
  {
   "cell_type": "code",
   "execution_count": 2,
   "metadata": {},
   "outputs": [
    {
     "name": "stdout",
     "output_type": "stream",
     "text": [
      "68°F is equal to 20.00°C\n",
      "37.5°C is equal to 99.50°F\n"
     ]
    }
   ],
   "source": [
    "class Temperature:\n",
    "\n",
    "    def to_celsius(fahrenheit):\n",
    "        \"\"\"Converts Fahrenheit to Celsius.\"\"\"\n",
    "        celsius = (fahrenheit - 32) * 5/9\n",
    "        return celsius\n",
    "    \n",
    "    def to_fahrenheit(celsius):\n",
    "        \"\"\"Converts Celsius to Fahrenheit.\"\"\"\n",
    "        fahrenheit = (celsius * 9/5) + 32\n",
    "        return fahrenheit\n",
    "\n",
    "temp = Temperature()\n",
    "\n",
    "fahrenheit_value = 68\n",
    "celsius_value = temp.to_celsius(fahrenheit_value)\n",
    "print(f\"{fahrenheit_value}°F is equal to {celsius_value:.2f}°C\")\n",
    "\n",
    "celsius_value = 37.5\n",
    "fahrenheit_value = temp.to_fahrenheit(celsius_value)\n",
    "print(f\"{celsius_value}°C is equal to {fahrenheit_value:.2f}°F\")"
   ]
  },
  {
   "cell_type": "code",
   "execution_count": 13,
   "metadata": {},
   "outputs": [
    {
     "name": "stdout",
     "output_type": "stream",
     "text": [
      "You borrowed 'Bhagwat Gita' Current stock: 4\n",
      "Thanks for returning 'Bhagwat Gita'.\n"
     ]
    }
   ],
   "source": [
    "class Book:\n",
    "    def __init__(self, title, author, copies_available):\n",
    "        self.title = title\n",
    "        self.author = author\n",
    "        self.copies_available = copies_available\n",
    "\n",
    "    def lend_book(self):\n",
    "        if self.copies_available > 0:\n",
    "            self.copies_available -= 1\n",
    "            print(f\"You borrowed '{self.title}' Current stock: {self.copies_available}\")\n",
    "        else:\n",
    "            print(f\"Sorry, '{self.title}' is out of stock.\")\n",
    "\n",
    "    def return_book(self):\n",
    "        self.copies_available += 1\n",
    "        print(f\"Thanks for returning '{self.title}'.\")\n",
    "\n",
    "book1 = Book(\"Bhagwat Gita\", \"Lord Krishna\", 5)\n",
    "\n",
    "book1.lend_book()\n",
    "book1.return_book()\n"
   ]
  },
  {
   "cell_type": "code",
   "execution_count": 27,
   "metadata": {},
   "outputs": [
    {
     "name": "stdout",
     "output_type": "stream",
     "text": [
      "Name: AA\n",
      "Salary: $55000\n",
      "Name: BB\n",
      "Salary: $45000\n",
      "Name: CC\n",
      "Salary: $60000\n",
      "Total employees: 3\n",
      "False\n"
     ]
    }
   ],
   "source": [
    "class Employee:\n",
    "    total_employees = 0\n",
    "\n",
    "    def __init__(self, name, salary):\n",
    "        self.name = name\n",
    "        self.salary = salary\n",
    "        Employee.total_employees += 1\n",
    "\n",
    "    def display_info(self):\n",
    "        print(f\"Name: {self.name}\")\n",
    "        print(f\"Salary: ${self.salary}\")\n",
    "\n",
    "    def high_earner(salary):\n",
    "        return salary > 50000\n",
    "\n",
    "\n",
    "emp1 = Employee(\"AA\", 55000)\n",
    "emp2 = Employee(\"BB\", 45000)\n",
    "emp3 = Employee(\"CC\", 60000)\n",
    "\n",
    "emp1.display_info()\n",
    "emp2.display_info()\n",
    "emp3.display_info()\n",
    "\n",
    "print(f\"Total employees: {Employee.total_employees}\")\n",
    "print(Employee.high_earner(50000))\n"
   ]
  },
  {
   "cell_type": "code",
   "execution_count": 56,
   "metadata": {},
   "outputs": [
    {
     "name": "stdout",
     "output_type": "stream",
     "text": [
      "Rectangle area: 50\n",
      "Circle radius: 7\n",
      "Circle area: 4\n"
     ]
    }
   ],
   "source": [
    "import math\n",
    "\n",
    "class Shape:\n",
    "    def area(self):\n",
    "        raise NotImplementedError\n",
    "    \n",
    "class Rectangle(Shape):\n",
    "    def __init__(self, width, height):\n",
    "        self.width = width\n",
    "        self.height = height\n",
    "    \n",
    "    def area(self):\n",
    "        return self.width * self.height\n",
    "\n",
    "class Circle(Shape):\n",
    "    def __init__(self, radius, area):\n",
    "        self.radius = radius\n",
    "        self.area = area\n",
    "\n",
    "    def area(self):\n",
    "        return math.pi * (self.radius ** 2)\n",
    "    def radius(self):\n",
    "        return (area / math.pi)\n",
    "    \n",
    "rect = Rectangle(5, 10)\n",
    "print(f\"Rectangle area: {rect.area()}\")\n",
    "\n",
    "circle = Circle(7, 4)\n",
    "print(f\"Circle radius: {circle.radius}\")\n",
    "print(f\"Circle area: {circle.area}\")"
   ]
  },
  {
   "cell_type": "code",
   "execution_count": 66,
   "metadata": {},
   "outputs": [
    {
     "name": "stdout",
     "output_type": "stream",
     "text": [
      "Added 5 to stock. New stock: 15\n",
      "Sold 3 items. Remaining stock: 12\n",
      "Total value of stock: $840000, Total stock of Laptop: 12 units\n"
     ]
    }
   ],
   "source": [
    "class Product:\n",
    "    def __init__(self, name, price, quantity):\n",
    "        self.name = name\n",
    "        self.price = price\n",
    "        self.quantity = quantity\n",
    "\n",
    "    def add_stock(self, amount):\n",
    "        self.quantity += amount\n",
    "        print(f\"Added {amount} to stock. New stock: {self.quantity}\")\n",
    "\n",
    "    def sell(self, amount):\n",
    "        if amount <= self.quantity:\n",
    "            self.quantity -= amount\n",
    "            print(f\"Sold {amount} items. Remaining stock: {self.quantity}\")\n",
    "        else:\n",
    "            print(\"Not enough stock to sell.\")\n",
    "\n",
    "    def get_total_value(self):\n",
    "        return self.price * self.quantity\n",
    "\n",
    "product = Product(\"Laptop\", 70000, 10)\n",
    "\n",
    "product.add_stock(5)\n",
    "product.sell(3)\n",
    "\n",
    "total_value = product.get_total_value()\n",
    "print(f\"Total value of stock: ${total_value}, Total stock of {product.name}: {product.quantity} units\")"
   ]
  },
  {
   "cell_type": "code",
   "execution_count": 69,
   "metadata": {},
   "outputs": [
    {
     "name": "stdout",
     "output_type": "stream",
     "text": [
      "Average marks: 90.66666666666667\n",
      "Top subject: Python\n"
     ]
    }
   ],
   "source": [
    "class Gradebook:\n",
    "    def __init__(self, student_name):\n",
    "        self.student_name = student_name\n",
    "        self.grades = {}\n",
    "    \n",
    "    def add_grade(self, subject, mark):\n",
    "        \"\"\"Adds or updates the grade for a subject.\"\"\"\n",
    "        self.grades[subject] = mark\n",
    "    \n",
    "    def calculate_average(self):\n",
    "        \"\"\"Returns the average of all marks.\"\"\"\n",
    "        if not self.grades:\n",
    "            return 0\n",
    "        total_marks = sum(self.grades.values())\n",
    "        number_of_subjects = len(self.grades)\n",
    "        return total_marks / number_of_subjects\n",
    "    \n",
    "    def get_top_subject(self):\n",
    "        \"\"\"Returns the subject with the highest mark.\"\"\"\n",
    "        if not self.grades:\n",
    "            return None\n",
    "        top_subject = max(self.grades, key=self.grades.get)\n",
    "        return top_subject\n",
    "\n",
    "student = Gradebook(\"AA\")\n",
    "\n",
    "student.add_grade(\"Python\", 95)\n",
    "student.add_grade(\"C++\", 85)\n",
    "student.add_grade(\"Java\", 92)\n",
    "\n",
    "# Calculating average\n",
    "print(f\"Average marks: {student.calculate_average()}\")\n",
    "\n",
    "# Getting the top subject\n",
    "print(f\"Top subject: {student.get_top_subject()}\")\n"
   ]
  },
  {
   "cell_type": "code",
   "execution_count": null,
   "metadata": {},
   "outputs": [],
   "source": []
  }
 ],
 "metadata": {
  "kernelspec": {
   "display_name": "Python 3",
   "language": "python",
   "name": "python3"
  },
  "language_info": {
   "codemirror_mode": {
    "name": "ipython",
    "version": 3
   },
   "file_extension": ".py",
   "mimetype": "text/x-python",
   "name": "python",
   "nbconvert_exporter": "python",
   "pygments_lexer": "ipython3",
   "version": "3.8.10"
  }
 },
 "nbformat": 4,
 "nbformat_minor": 2
}
