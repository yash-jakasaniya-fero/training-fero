{
 "cells": [
  {
   "cell_type": "code",
   "execution_count": 6,
   "metadata": {},
   "outputs": [
    {
     "name": "stdout",
     "output_type": "stream",
     "text": [
      "yash yash yash yash yash yash yash yash yash yash yash yash yash yash yash yash yash yash yash yash yash yash yash yash yash yash yash yash yash yash yash yash yash yash yash yash yash yash yash yash yash yash yash yash yash yash yash yash yash yash yash yash yash yash yash yash yash yash yash yash yash yash yash yash yash yash yash yash yash yash yash yash yash yash yash yash yash yash yash yash yash yash yash yash yash yash yash yash yash yash yash yash yash yash yash yash yash yash yash yash yash yash yash yash yash yash yash yash yash yash yash yash yash yash yash yash yash yash yash yash yash yash yash yash yash yash yash yash yash yash yash yash yash yash yash yash yash yash yash yash yash yash yash yash yash yash yash yash yash yash yash yash yash yash yash yash yash yash yash yash yash yash yash yash yash yash yash yash yash yash yash yash yash yash yash yash yash yash yash yash yash yash yash yash yash yash yash yash yash yash yash yash yash yash yash yash yash yash yash yash yash yash yash yash yash yash yash yash yash yash yash yash yash yash yash yash yash yash yash yash yash yash yash yash yash yash yash yash yash yash yash yash yash yash yash yash yash yash yash yash yash yash yash yash yash yash yash yash yash yash yash yash yash yash yash yash yash yash yash yash yash yash yash yash yash yash yash yash yash yash yash yash yash yash yash yash yash yash yash yash yash yash yash yash yash yash yash yash yash yash yash yash yash yash yash yash yash yash yash yash yash yash yash yash yash yash yash yash yash yash yash yash yash yash yash yash yash yash yash yash yash yash yash yash yash yash yash yash yash yash yash yash yash yash yash yash yash yash yash yash yash yash yash yash yash yash yash yash yash yash yash yash yash yash yash yash yash yash yash yash yash yash yash yash yash yash yash yash yash yash yash yash yash yash yash yash yash yash yash yash yash yash yash yash yash yash yash yash yash yash yash yash yash yash yash yash yash yash yash yash yash yash yash yash yash yash yash yash yash yash yash yash yash yash yash yash yash yash yash yash yash yash yash yash yash yash yash yash yash yash yash yash yash yash yash yash yash yash yash yash yash yash yash yash yash yash yash yash yash yash yash yash yash yash yash yash yash yash yash yash yash yash yash yash yash yash yash yash yash yash yash yash yash yash yash yash yash yash yash yash yash yash yash yash yash yash yash yash yash yash yash yash yash yash yash yash yash yash yash yash yash yash yash yash yash yash yash yash yash yash yash yash yash yash yash yash yash yash yash yash yash yash yash yash yash yash yash yash yash yash yash yash yash yash yash yash yash yash yash yash yash yash yash yash yash yash yash yash yash yash yash yash yash yash yash yash yash yash yash yash yash yash yash yash yash yash yash yash yash yash yash yash yash yash yash yash yash yash yash yash yash yash yash yash yash yash yash yash yash yash yash yash yash yash yash yash yash yash yash yash yash yash yash yash yash yash yash yash yash yash yash yash yash yash yash yash yash yash yash yash yash yash yash yash yash yash yash yash yash yash yash yash yash yash yash yash yash yash yash yash yash yash yash yash yash yash yash yash yash yash yash yash yash yash yash yash yash yash yash yash yash yash yash yash yash yash yash yash yash yash yash yash yash yash yash yash yash yash yash yash yash yash yash yash yash yash yash yash yash yash yash yash yash yash yash yash yash yash yash yash yash yash yash yash yash yash yash yash yash yash yash yash yash yash yash yash yash yash yash yash yash yash yash yash yash yash yash yash yash yash yash yash yash yash yash yash yash yash yash yash yash yash yash yash yash yash yash yash yash yash yash yash yash yash yash yash yash yash yash yash yash yash yash yash yash yash yash yash yash yash yash yash yash yash yash yash yash yash yash yash yash yash yash yash yash yash yash yash yash yash yash yash yash yash yash yash yash yash yash yash yash yash yash yash yash yash yash yash yash yash yash yash yash yash yash yash yash yash yash yash yash yash yash yash yash yash yash yash yash yash yash yash yash yash yash yash yash yash yash yash yash yash yash yash yash yash yash yash yash yash yash yash yash yash yash yash yash yash yash yash yash yash yash yash yash yash yash yash yash yash yash yash yash yash yash yash yash yash yash yash yash yash yash yash yash yash yash yash yash yash yash yash yash yash yash yash yash yash yash yash yash yash yash yash yash yash yash yash yash yash yash yash yash yash yash yash yash yash yash yash yash yash yash yash yash yash yash yash yash yash yash yash yash yash yash yash yash yash yash yash yash yash yash yash yash yash yash yash yash yash yash yash yash yash yash yash yash yash yash yash yash yash yash yash yash yash yash yash yash yash yash yash yash yash yash yash yash yash yash yash yash yash yash yash yash yash yash yash yash yash yash yash yash yash yash yash yash yash yash yash \n"
     ]
    }
   ],
   "source": [
    "word = input(\"Enter a word: \")\n",
    "word += \" \"\n",
    "print(word * 1000)"
   ]
  },
  {
   "cell_type": "code",
   "execution_count": 2,
   "metadata": {},
   "outputs": [
    {
     "name": "stdout",
     "output_type": "stream",
     "text": [
      "yash patel\n"
     ]
    }
   ],
   "source": [
    "first = input(\"Enter the word: \")\n",
    "second = input(\"Enter the word: \")\n",
    "word = first + \" \" + second\n",
    "print(word)"
   ]
  },
  {
   "cell_type": "code",
   "execution_count": 3,
   "metadata": {},
   "outputs": [
    {
     "name": "stdout",
     "output_type": "stream",
     "text": [
      "Welcome!\n"
     ]
    }
   ],
   "source": [
    "word = input(\"Enter your password: \")\n",
    "\n",
    "if word == \"yash\":\n",
    "    print(\"Welcome!\")\n",
    "elif word == \"\":\n",
    "    print(\"You didn't enter anything.\")\n",
    "else:\n",
    "    print(f\"Access denied.\")"
   ]
  },
  {
   "cell_type": "code",
   "execution_count": 7,
   "metadata": {},
   "outputs": [
    {
     "name": "stdout",
     "output_type": "stream",
     "text": [
      "You entered a, b, c and d.\n"
     ]
    }
   ],
   "source": [
    "word1 = input(\"word1: \")\n",
    "word2 = input(\"word2: \")\n",
    "word3 = input(\"word3: \")\n",
    "word4 = input(\"word4: \")\n",
    "print(f\"You entered {word1}, {word2}, {word3} and {word4}.\")"
   ]
  },
  {
   "cell_type": "code",
   "execution_count": 4,
   "metadata": {},
   "outputs": [
    {
     "name": "stdout",
     "output_type": "stream",
     "text": [
      "YASH\n"
     ]
    }
   ],
   "source": [
    "# message = input(\"What do you want me to say? \")\n",
    "message = input(\"What do you want me to say?\").upper()\n",
    "# message = message.upper()\n",
    "print(message)"
   ]
  },
  {
   "cell_type": "code",
   "execution_count": 8,
   "metadata": {},
   "outputs": [
    {
     "name": "stdout",
     "output_type": "stream",
     "text": [
      "string is not palindrom\n"
     ]
    }
   ],
   "source": [
    "palindrome_input = input(\"Enter_string: \")\n",
    "if palindrome_input == palindrome_input[::-1]:\n",
    "    print(\"string is palindrom\")\n",
    "else:\n",
    "    print(\"string is not palindrom\")"
   ]
  },
  {
   "cell_type": "code",
   "execution_count": 16,
   "metadata": {},
   "outputs": [
    {
     "name": "stdout",
     "output_type": "stream",
     "text": [
      "['a', 'b', 'c', 'd', 'f']\n"
     ]
    }
   ],
   "source": [
    "namelist = ['a', 'b', 'c', 'd']\n",
    "# namelist.extend(['e'])\n",
    "namelist.append(\"f\")\n",
    "print(namelist)"
   ]
  },
  {
   "cell_type": "code",
   "execution_count": 20,
   "metadata": {},
   "outputs": [
    {
     "name": "stdout",
     "output_type": "stream",
     "text": [
      "[1, 2, 3, 4, 5, 6]\n"
     ]
    }
   ],
   "source": [
    "before = [[1,2],[3,4],[5,6]]\n",
    "after = []\n",
    "\n",
    "# for subline in before:\n",
    "#     for number in subline:\n",
    "#         after.append(number)\n",
    "\n",
    "for subline in before:\n",
    "    after.extend(subline)\n",
    "print(after)"
   ]
  },
  {
   "cell_type": "code",
   "execution_count": 31,
   "metadata": {},
   "outputs": [
    {
     "name": "stdout",
     "output_type": "stream",
     "text": [
      "[1, 2, 3]\n"
     ]
    }
   ],
   "source": [
    "numbers = ['1', '2', '3']\n",
    "converted_numbers = []\n",
    "for number in numbers:\n",
    "    converted_numbers.append(int(number))\n",
    "print(converted_numbers)"
   ]
  },
  {
   "cell_type": "code",
   "execution_count": 40,
   "metadata": {},
   "outputs": [
    {
     "name": "stdout",
     "output_type": "stream",
     "text": [
      "1 \n",
      "1 2 \n",
      "1 2 3 \n",
      "1 2 3 4 \n",
      "1 2 3 4 5 \n",
      "1 2 3 4 5 6 \n",
      "1 2 3 4 5 6 7 \n",
      "1 2 3 4 5 6 7 8 \n",
      "1 2 3 4 5 6 7 8 9 \n",
      "1 2 3 4 5 6 7 8 9 10 \n"
     ]
    }
   ],
   "source": [
    "row_count = int(input(\"Type the number of rows needed:\")) \n",
    "for column_count in range(1, row_count+1):\n",
    "    for number in range(1, column_count+1): \n",
    "        print(number, end=\" \") \n",
    "    print()"
   ]
  },
  {
   "cell_type": "code",
   "execution_count": 42,
   "metadata": {},
   "outputs": [
    {
     "name": "stdout",
     "output_type": "stream",
     "text": [
      "1 2 3 4 5 6 7 8 9 10 \n",
      "2 3 4 5 6 7 8 9 10 \n",
      "3 4 5 6 7 8 9 10 \n",
      "4 5 6 7 8 9 10 \n",
      "5 6 7 8 9 10 \n",
      "6 7 8 9 10 \n",
      "7 8 9 10 \n",
      "8 9 10 \n",
      "9 10 \n",
      "10 \n"
     ]
    }
   ],
   "source": [
    "row_count=int(input(\"Type the number of rows needed:\"))\n",
    " \n",
    "for line_number in range(1, row_count+1):\n",
    "    for number in range(line_number, row_count+1):\n",
    "        print(number, end=' ')\n",
    "    print()"
   ]
  },
  {
   "cell_type": "code",
   "execution_count": 48,
   "metadata": {},
   "outputs": [
    {
     "name": "stdout",
     "output_type": "stream",
     "text": [
      "Enter something, and press Enter without typing anything when you're done.\n",
      "Line 1 is: a\n",
      "Line 2 is: b\n",
      "Line 3 is: c\n",
      "Line 4 is: d\n"
     ]
    }
   ],
   "source": [
    "print(\"Enter something, and press Enter without typing anything\",\n",
    "      \"when you're done.\")\n",
    "\n",
    "lines = []\n",
    "while True:\n",
    "    line = input('>')\n",
    "    if line == '':\n",
    "        break\n",
    "    lines.append(line)\n",
    "\n",
    "for index, line in enumerate(lines, start=1):\n",
    "    print(\"Line\", index, \"is:\", line)"
   ]
  },
  {
   "cell_type": "code",
   "execution_count": 55,
   "metadata": {},
   "outputs": [
    {
     "name": "stdout",
     "output_type": "stream",
     "text": [
      "Your name is Yash\n"
     ]
    }
   ],
   "source": [
    "def ask_name():\n",
    "    name = input(\"Enter your name: \")\n",
    "    return name\n",
    "\n",
    "print(\"Your name is\", ask_name())"
   ]
  },
  {
   "cell_type": "code",
   "execution_count": 54,
   "metadata": {},
   "outputs": [
    {
     "name": "stdout",
     "output_type": "stream",
     "text": [
      "Hello World!\n"
     ]
    }
   ],
   "source": [
    "def get_greeting():\n",
    "    return \"Hello World!\"\n",
    "\n",
    "print(get_greeting())"
   ]
  },
  {
   "cell_type": "code",
   "execution_count": 62,
   "metadata": {},
   "outputs": [
    {
     "data": {
      "text/plain": [
       "<function print>"
      ]
     },
     "execution_count": 62,
     "metadata": {},
     "output_type": "execute_result"
    }
   ],
   "source": [
    "print"
   ]
  },
  {
   "cell_type": "code",
   "execution_count": 67,
   "metadata": {},
   "outputs": [
    {
     "name": "stdout",
     "output_type": "stream",
     "text": [
      "hello\n",
      "None\n"
     ]
    }
   ],
   "source": [
    "thingy = print('hello')\n",
    "print(thingy)"
   ]
  },
  {
   "cell_type": "code",
   "execution_count": 69,
   "metadata": {},
   "outputs": [
    {
     "name": "stdout",
     "output_type": "stream",
     "text": [
      "hello\n"
     ]
    }
   ],
   "source": [
    "stuff = print('hello')\n",
    "stuff"
   ]
  },
  {
   "cell_type": "code",
   "execution_count": 70,
   "metadata": {},
   "outputs": [
    {
     "name": "stdout",
     "output_type": "stream",
     "text": [
      "42 is an integer, and the value of pi is 3.14\n"
     ]
    }
   ],
   "source": [
    "print(42, \"is an integer, and the value of pi is\", 3.14)"
   ]
  },
  {
   "cell_type": "code",
   "execution_count": 72,
   "metadata": {},
   "outputs": [
    {
     "name": "stdout",
     "output_type": "stream",
     "text": [
      "It's not raining!\n"
     ]
    }
   ],
   "source": [
    "its_raining = False\n",
    "if its_raining:\n",
    "    print(\"It's raining!\")\n",
    "else:\n",
    "    print(\"It's not raining!\")"
   ]
  },
  {
   "cell_type": "code",
   "execution_count": 73,
   "metadata": {},
   "outputs": [
    {
     "name": "stdout",
     "output_type": "stream",
     "text": [
      "Hello!\n",
      "That's correct, welcome!\n"
     ]
    }
   ],
   "source": [
    "print(\"Hello!\")\n",
    "password = input(\"Enter your password: \")\n",
    "\n",
    "if password == \"123\":\n",
    "    print(\"That's correct, welcome!\")\n",
    "else:\n",
    "    print(\"Access denied.\")"
   ]
  },
  {
   "cell_type": "code",
   "execution_count": 79,
   "metadata": {},
   "outputs": [
    {
     "name": "stdout",
     "output_type": "stream",
     "text": [
      "hello\n"
     ]
    }
   ],
   "source": [
    "if 1 == 1:\n",
    "    print(\"hello\")\n",
    "elif 1 == 2:\n",
    "    print(\"this is weird\")\n",
    "else:\n",
    "    print(\"world\")"
   ]
  },
  {
   "cell_type": "code",
   "execution_count": 86,
   "metadata": {},
   "outputs": [
    {
     "name": "stdout",
     "output_type": "stream",
     "text": [
      "Hello!\n",
      "I don't know what hh means.\n"
     ]
    }
   ],
   "source": [
    "print('Hello!')\n",
    "something = input(\"Enter something: \")\n",
    "if something == 'hello':\n",
    "    print(\"Hello for you too!\")\n",
    "\n",
    "elif something == 'hi':\n",
    "    print('Hi there!')\n",
    "else:\n",
    "    print(\"I don't know what\", something, \"means.\")"
   ]
  },
  {
   "cell_type": "code",
   "execution_count": 87,
   "metadata": {},
   "outputs": [
    {
     "data": {
      "text/plain": [
       "'Hello World!'"
      ]
     },
     "execution_count": 87,
     "metadata": {},
     "output_type": "execute_result"
    }
   ],
   "source": [
    "our_string = \"Hello World!\"\n",
    "our_string"
   ]
  },
  {
   "cell_type": "code",
   "execution_count": 88,
   "metadata": {},
   "outputs": [
    {
     "data": {
      "text/plain": [
       "'llo'"
      ]
     },
     "execution_count": 88,
     "metadata": {},
     "output_type": "execute_result"
    }
   ],
   "source": [
    "our_string[2:5]"
   ]
  },
  {
   "cell_type": "code",
   "execution_count": 90,
   "metadata": {},
   "outputs": [
    {
     "data": {
      "text/plain": [
       "'lo W'"
      ]
     },
     "execution_count": 90,
     "metadata": {},
     "output_type": "execute_result"
    }
   ],
   "source": [
    "our_string[-9:-5]"
   ]
  },
  {
   "cell_type": "code",
   "execution_count": 93,
   "metadata": {},
   "outputs": [],
   "source": [
    "# our_string[1:]\n",
    "\n",
    "# our_string[:-1]"
   ]
  },
  {
   "cell_type": "code",
   "execution_count": 96,
   "metadata": {},
   "outputs": [
    {
     "data": {
      "text/plain": [
       "[1, 8, 27, 64, 125]"
      ]
     },
     "execution_count": 96,
     "metadata": {},
     "output_type": "execute_result"
    }
   ],
   "source": [
    "numbers = [1,2,3,4,5]\n",
    "numbers_squared = [number ** 3 for number in numbers]\n",
    "numbers_squared"
   ]
  },
  {
   "cell_type": "code",
   "execution_count": 97,
   "metadata": {},
   "outputs": [
    {
     "data": {
      "text/plain": [
       "['A', 'GG', 'C', 'D', 'e']"
      ]
     },
     "execution_count": 97,
     "metadata": {},
     "output_type": "execute_result"
    }
   ],
   "source": [
    "names = ['A', 'b', 'C', 'D', 'e']\n",
    "names[1] = 'GG'\n",
    "names"
   ]
  },
  {
   "cell_type": "code",
   "execution_count": 101,
   "metadata": {},
   "outputs": [
    {
     "data": {
      "text/plain": [
       "[1, 2, 3, 4]"
      ]
     },
     "execution_count": 101,
     "metadata": {},
     "output_type": "execute_result"
    }
   ],
   "source": [
    "a = [1, 2, 3]\n",
    "b = a\n",
    "b.append(4)\n",
    "a"
   ]
  },
  {
   "cell_type": "code",
   "execution_count": 105,
   "metadata": {},
   "outputs": [
    {
     "name": "stdout",
     "output_type": "stream",
     "text": [
      "I know you!\n"
     ]
    }
   ],
   "source": [
    "namelist = ['aa', 'bb', 'cc', 'dd']\n",
    "if input(\"Enter your name: \") in namelist:\n",
    "    print(\"I know you!\")\n",
    "else:\n",
    "    print(\"I don't know you.\")"
   ]
  },
  {
   "cell_type": "code",
   "execution_count": 107,
   "metadata": {},
   "outputs": [
    {
     "name": "stdout",
     "output_type": "stream",
     "text": [
      "It's raining!\n",
      "Oh well...\n",
      "It's raining!\n",
      "It's not raining anymore.\n"
     ]
    }
   ],
   "source": [
    "its_raining = True\n",
    "while its_raining:\n",
    "    print(\"It's raining!\")\n",
    "    answer = input(\"Or is it? (y=yes, n=no) \")\n",
    "    if answer == 'y':\n",
    "        print(\"Oh well...\")\n",
    "    elif answer == 'n':\n",
    "        its_raining = False\n",
    "    else:\n",
    "        print(\"Enter y or n next time.\")\n",
    "print(\"It's not raining anymore.\")"
   ]
  },
  {
   "cell_type": "code",
   "execution_count": 112,
   "metadata": {},
   "outputs": [
    {
     "name": "stdout",
     "output_type": "stream",
     "text": [
      "a\n",
      "b\n",
      "c\n",
      "d\n",
      "e\n",
      "f\n"
     ]
    }
   ],
   "source": [
    "stuff = ['a','b','c','d','e','f']\n",
    "# length_of_stuff = len(stuff)\n",
    "# index=0\n",
    "# while index < length_of_stuff:\n",
    "#     print(stuff[index])\n",
    "#     index += 1\n",
    "for things in stuff:\n",
    "    print(things)"
   ]
  },
  {
   "cell_type": "code",
   "execution_count": 114,
   "metadata": {},
   "outputs": [
    {
     "name": "stdout",
     "output_type": "stream",
     "text": [
      "Y\n",
      "a\n",
      "s\n",
      "h\n"
     ]
    }
   ],
   "source": [
    "for short_string in 'Yash':\n",
    "     print(short_string)"
   ]
  },
  {
   "cell_type": "code",
   "execution_count": 121,
   "metadata": {},
   "outputs": [
    {
     "name": "stdout",
     "output_type": "stream",
     "text": [
      "a 1\n",
      "b 2\n",
      "c 3\n"
     ]
    }
   ],
   "source": [
    "items = [('a', 1), ('b', 2), ('c', 3)]\n",
    "# for pair in items:\n",
    "#      a, b = pair\n",
    "#      print(a, b)\n",
    "\n",
    "for a,b in items:\n",
    "    print(a,b)"
   ]
  },
  {
   "cell_type": "code",
   "execution_count": 123,
   "metadata": {},
   "outputs": [
    {
     "name": "stdout",
     "output_type": "stream",
     "text": [
      "Roll number of AA is 20\n",
      "Roll number of BB is 25\n",
      "Roll number of CC is 28\n"
     ]
    }
   ],
   "source": [
    "roll_nums = [20, 25, 28]\n",
    "students = [\"AA\", \"BB\", \"CC\"]\n",
    "for roll_num, student in zip(roll_nums, students):\n",
    "    print(f\"Roll number of {student} is {roll_num}\")"
   ]
  },
  {
   "cell_type": "code",
   "execution_count": 124,
   "metadata": {},
   "outputs": [
    {
     "name": "stdout",
     "output_type": "stream",
     "text": [
      "Index of 2 is 0\n",
      "Index of 4 is 1\n",
      "Index of 6 is 2\n",
      "Index of 8 is 3\n",
      "Index of 10 is 4\n",
      "Index of 12 is 5\n"
     ]
    }
   ],
   "source": [
    "even_nums = [2, 4, 6, 8, 10, 12]\n",
    "for index, item in enumerate(even_nums):\n",
    "    print(f\"Index of {item} is {index}\")"
   ]
  },
  {
   "cell_type": "code",
   "execution_count": 125,
   "metadata": {},
   "outputs": [
    {
     "name": "stdout",
     "output_type": "stream",
     "text": [
      "A a\n",
      "B b\n",
      "C c\n",
      "D d\n",
      "E e\n",
      "F f\n",
      "G g\n",
      "H h\n",
      "I i\n",
      "J j\n",
      "K k\n",
      "L l\n",
      "M m\n",
      "N n\n",
      "O o\n",
      "P p\n",
      "Q q\n",
      "R r\n",
      "S s\n",
      "T t\n",
      "U u\n",
      "V v\n",
      "W w\n",
      "X x\n",
      "Y y\n",
      "Z z\n"
     ]
    }
   ],
   "source": [
    "uppercase = 'ABCDEFGHIJKLMNOPQRSTUVWXYZ'\n",
    "lowercase = 'abcdefghijklmnopqrstuvwxyz'\n",
    "\n",
    "for upper, lower in zip(uppercase, lowercase):\n",
    "    print(upper, lower)"
   ]
  },
  {
   "cell_type": "code",
   "execution_count": 75,
   "metadata": {},
   "outputs": [
    {
     "name": "stdout",
     "output_type": "stream",
     "text": [
      "0 A a\n",
      "1 B b\n",
      "2 C c\n",
      "3 D d\n",
      "4 E e\n",
      "5 F f\n",
      "6 G g\n",
      "7 H h\n",
      "8 I i\n",
      "9 J j\n",
      "10 K k\n",
      "11 L l\n",
      "12 M m\n",
      "13 N n\n",
      "14 O o\n",
      "15 P p\n",
      "16 Q q\n",
      "17 R r\n",
      "18 S s\n",
      "19 T t\n",
      "20 U u\n",
      "21 V v\n",
      "22 W w\n",
      "23 X x\n",
      "24 Y y\n",
      "25 Z z\n"
     ]
    }
   ],
   "source": [
    "uppercase = 'ABCDEFGHIJKLMNOPQRSTUVWXYZ'\n",
    "lowercase = 'abcdefghijklmnopqrstuvwxyz'\n",
    "\n",
    "for index, letterpair in enumerate(zip(uppercase, lowercase), start=1):\n",
    "    upper, lower = letterpair\n",
    "    print(index, upper, lower)"
   ]
  },
  {
   "cell_type": "code",
   "execution_count": 46,
   "metadata": {},
   "outputs": [],
   "source": [
    "names_and_pets = [\n",
    "    ('A', 'cats'),\n",
    "    ('B', 'cats and dogs'),\n",
    "    ('C', 'cats'),\n",
    "]"
   ]
  },
  {
   "cell_type": "code",
   "execution_count": 76,
   "metadata": {},
   "outputs": [],
   "source": [
    "found_B = True\n",
    "for pair in names_and_pets:\n",
    "    if pair[0] == 'B':\n",
    "        found_B = True\n",
    "        break"
   ]
  },
  {
   "cell_type": "code",
   "execution_count": 80,
   "metadata": {},
   "outputs": [],
   "source": [
    "pets = None\n",
    "for pair in names_and_pets:\n",
    "    if pair[0] == 'B':\n",
    "        pets = pair[1]\n",
    "        break"
   ]
  },
  {
   "cell_type": "code",
   "execution_count": 89,
   "metadata": {},
   "outputs": [],
   "source": [
    "favorite_pets = {\n",
    "    'A': 'cats',\n",
    "    'B': 'cats and dogs',\n",
    "    'C': 'cats'\n",
    "}"
   ]
  },
  {
   "cell_type": "code",
   "execution_count": 79,
   "metadata": {},
   "outputs": [
    {
     "data": {
      "text/plain": [
       "{'names_and_pets': [('A', 'cats'), ('B', 'cats and dogs'), ('C', 'cats')],\n",
       " 'favorite_pets': {'C': 'cats', 'B': 'cats and dogs', 'A': 'cats'}}"
      ]
     },
     "execution_count": 79,
     "metadata": {},
     "output_type": "execute_result"
    }
   ],
   "source": [
    "globals()\n",
    "{'names_and_pets': [('A', 'cats'),\n",
    "                    ('B', 'cats and dogs'),\n",
    "                    ('C', 'cats')],\n",
    " 'favorite_pets': {'C': 'cats',\n",
    "                   'B': 'cats and dogs',\n",
    "                   'A': 'cats'},\n",
    "                }\n",
    "\n"
   ]
  },
  {
   "cell_type": "code",
   "execution_count": 59,
   "metadata": {},
   "outputs": [
    {
     "data": {
      "text/plain": [
       "3"
      ]
     },
     "execution_count": 59,
     "metadata": {},
     "output_type": "execute_result"
    }
   ],
   "source": [
    "len(names_and_pets)\n",
    "\n",
    "len(favorite_pets)"
   ]
  },
  {
   "cell_type": "code",
   "execution_count": 61,
   "metadata": {},
   "outputs": [
    {
     "data": {
      "text/plain": [
       "'cats and dogs'"
      ]
     },
     "execution_count": 61,
     "metadata": {},
     "output_type": "execute_result"
    }
   ],
   "source": [
    "favorite_pets['B']"
   ]
  },
  {
   "cell_type": "code",
   "execution_count": 62,
   "metadata": {},
   "outputs": [
    {
     "ename": "KeyError",
     "evalue": "'b'",
     "output_type": "error",
     "traceback": [
      "\u001b[0;31m---------------------------------------------------------------------------\u001b[0m",
      "\u001b[0;31mKeyError\u001b[0m                                  Traceback (most recent call last)",
      "Cell \u001b[0;32mIn[62], line 1\u001b[0m\n\u001b[0;32m----> 1\u001b[0m \u001b[43mfavorite_pets\u001b[49m\u001b[43m[\u001b[49m\u001b[38;5;124;43m'\u001b[39;49m\u001b[38;5;124;43mb\u001b[39;49m\u001b[38;5;124;43m'\u001b[39;49m\u001b[43m]\u001b[49m\n",
      "\u001b[0;31mKeyError\u001b[0m: 'b'"
     ]
    }
   ],
   "source": [
    "favorite_pets['b']"
   ]
  },
  {
   "cell_type": "code",
   "execution_count": 63,
   "metadata": {},
   "outputs": [],
   "source": [
    "favorite_pets['D'] = 'Lion'"
   ]
  },
  {
   "cell_type": "code",
   "execution_count": 65,
   "metadata": {},
   "outputs": [
    {
     "data": {
      "text/plain": [
       "{'A': 'cats', 'B': 'cats and dogs', 'C': 'cats', 'D': 'Lion'}"
      ]
     },
     "execution_count": 65,
     "metadata": {},
     "output_type": "execute_result"
    }
   ],
   "source": [
    "favorite_pets"
   ]
  },
  {
   "cell_type": "code",
   "execution_count": 67,
   "metadata": {},
   "outputs": [
    {
     "name": "stdout",
     "output_type": "stream",
     "text": [
      "A\n",
      "B\n",
      "C\n",
      "D\n"
     ]
    }
   ],
   "source": [
    "for cat in favorite_pets:\n",
    "    print(cat)"
   ]
  },
  {
   "cell_type": "code",
   "execution_count": 68,
   "metadata": {},
   "outputs": [
    {
     "data": {
      "text/plain": [
       "dict_values(['cats', 'cats and dogs', 'cats', 'Lion'])"
      ]
     },
     "execution_count": 68,
     "metadata": {},
     "output_type": "execute_result"
    }
   ],
   "source": [
    "favorite_pets.values()"
   ]
  },
  {
   "cell_type": "code",
   "execution_count": 74,
   "metadata": {},
   "outputs": [
    {
     "name": "stdout",
     "output_type": "stream",
     "text": [
      "cats\n",
      "cats and dogs\n",
      "cats\n",
      "Lion\n"
     ]
    }
   ],
   "source": [
    "for pets in favorite_pets.values():\n",
    "    print(pets)"
   ]
  },
  {
   "cell_type": "code",
   "execution_count": 81,
   "metadata": {},
   "outputs": [],
   "source": [
    "favorite_pets['F'] = 'penguins'"
   ]
  },
  {
   "cell_type": "code",
   "execution_count": 82,
   "metadata": {},
   "outputs": [
    {
     "data": {
      "text/plain": [
       "dict_values(['cats', 'cats and dogs', 'cats', 'Lion', 'penguins'])"
      ]
     },
     "execution_count": 82,
     "metadata": {},
     "output_type": "execute_result"
    }
   ],
   "source": [
    "favorite_pets.values()"
   ]
  },
  {
   "cell_type": "code",
   "execution_count": 83,
   "metadata": {},
   "outputs": [
    {
     "data": {
      "text/plain": [
       "'cats'"
      ]
     },
     "execution_count": 83,
     "metadata": {},
     "output_type": "execute_result"
    }
   ],
   "source": [
    "favorite_pets['A']"
   ]
  },
  {
   "cell_type": "code",
   "execution_count": 84,
   "metadata": {},
   "outputs": [
    {
     "data": {
      "text/plain": [
       "True"
      ]
     },
     "execution_count": 84,
     "metadata": {},
     "output_type": "execute_result"
    }
   ],
   "source": [
    "'A' in favorite_pets"
   ]
  },
  {
   "cell_type": "code",
   "execution_count": 85,
   "metadata": {},
   "outputs": [
    {
     "data": {
      "text/plain": [
       "False"
      ]
     },
     "execution_count": 85,
     "metadata": {},
     "output_type": "execute_result"
    }
   ],
   "source": [
    "'cat' in favorite_pets"
   ]
  },
  {
   "cell_type": "code",
   "execution_count": 94,
   "metadata": {},
   "outputs": [
    {
     "name": "stdout",
     "output_type": "stream",
     "text": [
      "dogs are A's favorite pets\n",
      "cats are B's favorite pets\n",
      "cats and dogs are C's favorite pets\n"
     ]
    }
   ],
   "source": [
    "favorite_pets = {\n",
    "    'A': 'dogs',\n",
    "    'B': 'cats',\n",
    "    'C': 'cats and dogs'\n",
    "}\n",
    "\n",
    "for name, pets in favorite_pets.items():\n",
    "    print(\"{} are {}'s favorite pets\".format(pets, name))\n"
   ]
  },
  {
   "cell_type": "code",
   "execution_count": 92,
   "metadata": {},
   "outputs": [
    {
     "data": {
      "text/plain": [
       "True"
      ]
     },
     "execution_count": 92,
     "metadata": {},
     "output_type": "execute_result"
    }
   ],
   "source": [
    "('A', 'cats') in favorite_pets.items()"
   ]
  },
  {
   "cell_type": "code",
   "execution_count": 98,
   "metadata": {},
   "outputs": [
    {
     "name": "stdout",
     "output_type": "stream",
     "text": [
      "\n",
      "The appears once in the sentence\n",
      "big appears once in the sentence\n",
      "dog appears 2 times in the sentence\n",
      "barked appears once in the sentence\n",
      "loudly, appears once in the sentence\n",
      "barking appears 6 times in the sentence\n",
      "again appears once in the sentence\n",
      "and appears 2 times in the sentence\n",
      "again, appears once in the sentence\n",
      "as appears once in the sentence\n",
      "if appears once in the sentence\n",
      "the appears 5 times in the sentence\n",
      "would appears once in the sentence\n",
      "never appears once in the sentence\n",
      "stop, appears once in the sentence\n",
      "so appears once in the sentence\n",
      "much appears once in the sentence\n",
      "that appears once in the sentence\n",
      "everyone appears once in the sentence\n",
      "in appears once in the sentence\n",
      "neighborhood appears once in the sentence\n",
      "could appears once in the sentence\n",
      "hear appears once in the sentence\n",
      "barking, appears 3 times in the sentence\n",
      "yet appears once in the sentence\n",
      "kept appears once in the sentence\n",
      "with appears once in the sentence\n",
      "all appears once in the sentence\n",
      "its appears once in the sentence\n",
      "might, appears once in the sentence\n",
      "until appears once in the sentence\n",
      "faded, appears once in the sentence\n",
      "but appears once in the sentence\n",
      "it appears once in the sentence\n",
      "was appears once in the sentence\n",
      "still appears once in the sentence\n",
      "constantly. appears once in the sentence\n"
     ]
    }
   ],
   "source": [
    "sentence = input(\"Enter a sentence: \")\n",
    "\n",
    "counts = {}     # {word: count, ...}\n",
    "for word in sentence.split():\n",
    "    if word in counts:\n",
    "        # we have seen this word before\n",
    "        counts[word] += 1\n",
    "    else:\n",
    "        # this is the first time this word occurs\n",
    "        counts[word] = 1\n",
    "\n",
    "print()     # display an empty line\n",
    "for word, count in counts.items():\n",
    "    if count == 1:\n",
    "        # \"1 times\" looks weird\n",
    "        print(word, \"appears once in the sentence\")\n",
    "    else:\n",
    "        print(word, \"appears\", count, \"times in the sentence\")"
   ]
  },
  {
   "cell_type": "code",
   "execution_count": 102,
   "metadata": {},
   "outputs": [],
   "source": [
    "pass"
   ]
  },
  {
   "cell_type": "code",
   "execution_count": 103,
   "metadata": {},
   "outputs": [],
   "source": [
    "def do_nothing():\n",
    "    pass"
   ]
  },
  {
   "cell_type": "code",
   "execution_count": 104,
   "metadata": {},
   "outputs": [
    {
     "data": {
      "text/plain": [
       "<function __main__.do_nothing()>"
      ]
     },
     "execution_count": 104,
     "metadata": {},
     "output_type": "execute_result"
    }
   ],
   "source": [
    "do_nothing"
   ]
  },
  {
   "cell_type": "code",
   "execution_count": 106,
   "metadata": {},
   "outputs": [],
   "source": [
    "def print_hi():\n",
    "    print('Hii')"
   ]
  },
  {
   "cell_type": "code",
   "execution_count": 108,
   "metadata": {},
   "outputs": [
    {
     "name": "stdout",
     "output_type": "stream",
     "text": [
      "Hii\n"
     ]
    }
   ],
   "source": [
    "print_hi()"
   ]
  },
  {
   "cell_type": "code",
   "execution_count": 165,
   "metadata": {},
   "outputs": [
    {
     "name": "stdout",
     "output_type": "stream",
     "text": [
      "nothing\n"
     ]
    }
   ],
   "source": [
    "def print_message():\n",
    "    print(message)\n",
    "\n",
    "message = \"nothing\"\n",
    "print_message()"
   ]
  },
  {
   "cell_type": "code",
   "execution_count": 164,
   "metadata": {},
   "outputs": [
    {
     "name": "stdout",
     "output_type": "stream",
     "text": [
      "****\n",
      "yash\n",
      "****\n"
     ]
    }
   ],
   "source": [
    "def print_box(message, character=\"*\"):\n",
    "    print(character * len(message))\n",
    "    print(message)\n",
    "    print(character * len(message))\n",
    "print_box('yash')"
   ]
  },
  {
   "cell_type": "code",
   "execution_count": 116,
   "metadata": {},
   "outputs": [
    {
     "name": "stdout",
     "output_type": "stream",
     "text": [
      "***********\n",
      "Hello World\n",
      "***********\n"
     ]
    }
   ],
   "source": [
    "print_box(\"Hello World\", \"*\")"
   ]
  },
  {
   "cell_type": "code",
   "execution_count": 121,
   "metadata": {},
   "outputs": [
    {
     "name": "stdout",
     "output_type": "stream",
     "text": [
      "************\n",
      "Hello World!\n",
      "************\n"
     ]
    }
   ],
   "source": [
    "print_box(\"Hello World!\")"
   ]
  },
  {
   "cell_type": "code",
   "execution_count": 122,
   "metadata": {},
   "outputs": [
    {
     "name": "stdout",
     "output_type": "stream",
     "text": [
      "************\n",
      "Hello World!\n",
      "************\n"
     ]
    }
   ],
   "source": [
    "print_box(message=\"Hello World!\")"
   ]
  },
  {
   "cell_type": "code",
   "execution_count": 123,
   "metadata": {},
   "outputs": [
    {
     "name": "stdout",
     "output_type": "stream",
     "text": [
      "?????????????\n",
      "Enter a word:\n",
      "?????????????\n"
     ]
    }
   ],
   "source": [
    "print_box(\"Enter a word:\", \"?\")"
   ]
  },
  {
   "cell_type": "code",
   "execution_count": 124,
   "metadata": {},
   "outputs": [
    {
     "name": "stdout",
     "output_type": "stream",
     "text": [
      "?????????????\n",
      "Enter a word:\n",
      "?????????????\n",
      "?????????????\n",
      "Enter a word:\n",
      "?????????????\n"
     ]
    }
   ],
   "source": [
    "print_box(message=\"Enter a word:\", character=\"?\")\n",
    "print_box(character=\"?\", message=\"Enter a word:\")"
   ]
  },
  {
   "cell_type": "code",
   "execution_count": 125,
   "metadata": {},
   "outputs": [
    {
     "name": "stdout",
     "output_type": "stream",
     "text": [
      "?????????????\n",
      "Enter a word:\n",
      "?????????????\n"
     ]
    }
   ],
   "source": [
    "print_box(\"Enter a word:\", character=\"?\")"
   ]
  },
  {
   "cell_type": "code",
   "execution_count": 126,
   "metadata": {},
   "outputs": [
    {
     "ename": "SyntaxError",
     "evalue": "positional argument follows keyword argument (3648461794.py, line 1)",
     "output_type": "error",
     "traceback": [
      "\u001b[0;36m  Cell \u001b[0;32mIn[126], line 1\u001b[0;36m\u001b[0m\n\u001b[0;31m    print_box(character=\"?\", \"Enter a word:\")\u001b[0m\n\u001b[0m                             ^\u001b[0m\n\u001b[0;31mSyntaxError\u001b[0m\u001b[0;31m:\u001b[0m positional argument follows keyword argument\n"
     ]
    }
   ],
   "source": [
    "print_box(character=\"?\", \"Enter a word:\")"
   ]
  },
  {
   "cell_type": "code",
   "execution_count": 128,
   "metadata": {},
   "outputs": [
    {
     "data": {
      "text/plain": [
       "60"
      ]
     },
     "execution_count": 128,
     "metadata": {},
     "output_type": "execute_result"
    }
   ],
   "source": [
    "def times_two(thing):\n",
    "    return thing * 2\n",
    "times_two(30)"
   ]
  },
  {
   "cell_type": "code",
   "execution_count": 130,
   "metadata": {},
   "outputs": [
    {
     "name": "stdout",
     "output_type": "stream",
     "text": [
      "2 * 5 is 10\n"
     ]
    }
   ],
   "source": [
    "print('2 * 5 is', times_two(5) )"
   ]
  },
  {
   "cell_type": "code",
   "execution_count": 137,
   "metadata": {},
   "outputs": [
    {
     "name": "stdout",
     "output_type": "stream",
     "text": [
      "This never gets printed.\n"
     ]
    }
   ],
   "source": [
    "def return_before_print():\n",
    "    # return None\n",
    "    print(\"This never gets printed.\")\n",
    "return_before_print()"
   ]
  },
  {
   "cell_type": "code",
   "execution_count": 140,
   "metadata": {},
   "outputs": [
    {
     "name": "stdout",
     "output_type": "stream",
     "text": [
      "hello!, hii\n"
     ]
    }
   ],
   "source": [
    "def say_hi():\n",
    "    print(\"hello!, hii\")\n",
    "\n",
    "say_hi()"
   ]
  },
  {
   "cell_type": "code",
   "execution_count": 141,
   "metadata": {},
   "outputs": [
    {
     "name": "stdout",
     "output_type": "stream",
     "text": [
      "You like ice cream!\n"
     ]
    }
   ],
   "source": [
    "def ask_yes_no(prompt):\n",
    "    while True:\n",
    "        answer = input(prompt + ' (y or n) ')\n",
    "        if answer == 'y' or answer == 'Y':\n",
    "            return True\n",
    "        if answer == 'n' or answer == 'N':\n",
    "            return False\n",
    "        print(\"Answer 'y' or 'n'.\")\n",
    "\n",
    "if ask_yes_no(\"Do you like ice cream?\"):\n",
    "    print(\"You like ice cream!\")\n",
    "else:\n",
    "    print(\"You don't like ice cream.\")"
   ]
  },
  {
   "cell_type": "code",
   "execution_count": 158,
   "metadata": {},
   "outputs": [
    {
     "name": "stdout",
     "output_type": "stream",
     "text": [
      "Your name is yash\n"
     ]
    }
   ],
   "source": [
    "def ask_name():\n",
    "    name = input(\"Enter your name: \")\n",
    "    return name\n",
    "\n",
    "name=ask_name()\n",
    "print(\"Your name is\" , name)"
   ]
  },
  {
   "cell_type": "code",
   "execution_count": 167,
   "metadata": {},
   "outputs": [
    {
     "name": "stdout",
     "output_type": "stream",
     "text": [
      "Hello World!\n"
     ]
    }
   ],
   "source": [
    "def get_greeting():\n",
    "    return \"Hello World!\"\n",
    "\n",
    "print(get_greeting())"
   ]
  },
  {
   "cell_type": "code",
   "execution_count": 172,
   "metadata": {},
   "outputs": [
    {
     "name": "stdout",
     "output_type": "stream",
     "text": [
      "Hello World\n"
     ]
    }
   ],
   "source": [
    "def greet(target):\n",
    "    return(\"Hello \" + target)\n",
    "\n",
    "print(greet(\"World\"))"
   ]
  },
  {
   "cell_type": "code",
   "execution_count": 173,
   "metadata": {},
   "outputs": [],
   "source": [
    "def ask_questions(answers):\n",
    "    correct = []\n",
    "    wrong = []\n",
    "\n",
    "    for question, answer in answers.items():\n",
    "        if input(question + ' = ').strip() == answer:\n",
    "            print(\"Correct!\")\n",
    "            correct.append(question)\n",
    "        else:\n",
    "            print(f\"Wrong! The correct answer is {answer}.\")\n",
    "            wrong.append(question)\n",
    "\n",
    "    return (correct, wrong)\n",
    "\n",
    "\n",
    "def stats(correct, wrong, answers):\n",
    "    print(\"\\n**** STATS ****\\n\")\n",
    "    print(\"You answered\", len(correct), \"questions correctly and\",\n",
    "          len(wrong), \"questions wrong.\")\n",
    "\n",
    "    if wrong:\n",
    "        print(\"These would have been the correct answers:\")\n",
    "        for question in wrong:\n",
    "            print(' ', question, '=', answers[question])"
   ]
  },
  {
   "cell_type": "code",
   "execution_count": 174,
   "metadata": {},
   "outputs": [
    {
     "ename": "NameError",
     "evalue": "name 'read_questions' is not defined",
     "output_type": "error",
     "traceback": [
      "\u001b[0;31m---------------------------------------------------------------------------\u001b[0m",
      "\u001b[0;31mNameError\u001b[0m                                 Traceback (most recent call last)",
      "Cell \u001b[0;32mIn[174], line 1\u001b[0m\n\u001b[0;32m----> 1\u001b[0m answers \u001b[38;5;241m=\u001b[39m \u001b[43mread_questions\u001b[49m(\u001b[38;5;124m'\u001b[39m\u001b[38;5;124mquestions.txt\u001b[39m\u001b[38;5;124m'\u001b[39m)\n\u001b[1;32m      2\u001b[0m correct, wrong \u001b[38;5;241m=\u001b[39m ask_questions(answers)\n",
      "\u001b[0;31mNameError\u001b[0m: name 'read_questions' is not defined"
     ]
    }
   ],
   "source": [
    "answers = read_questions('questions.txt')\n",
    "correct, wrong = ask_questions(answers)"
   ]
  },
  {
   "cell_type": "code",
   "execution_count": 1,
   "metadata": {},
   "outputs": [],
   "source": [
    "def ask_questions(answers):\n",
    "    correct = []\n",
    "    wrong = []\n",
    "\n",
    "    for question, answer in answers.items():\n",
    "        if input(question + ' = ').strip() == answer:\n",
    "            print(\"Correct!\")\n",
    "            correct.append(question)\n",
    "        else:\n",
    "            print(f\"Wrong! The correct answer is {answer}.\")\n",
    "            wrong.append(question)\n",
    "\n",
    "    return (correct, wrong)\n",
    "\n",
    "\n",
    "def stats(correct, wrong, answers):\n",
    "    print(\"\\n**** STATS ****\\n\")\n",
    "    print(\"You answered\", len(correct), \"questions correctly and\",\n",
    "          len(wrong), \"questions wrong.\")\n",
    "\n",
    "    if wrong:\n",
    "        print(\"These would have been the correct answers:\")\n",
    "        for question in wrong:\n",
    "            print(' ', question, '=', answers[question])"
   ]
  },
  {
   "cell_type": "code",
   "execution_count": 2,
   "metadata": {},
   "outputs": [],
   "source": [
    "def main():\n",
    "    filename = input(\"Name of the question file: \")\n",
    "    answers = read_questions(filename)\n",
    "    correct, wrong = ask_questions(answers)\n",
    "    stats(correct, wrong, answers)"
   ]
  },
  {
   "cell_type": "code",
   "execution_count": 3,
   "metadata": {},
   "outputs": [
    {
     "ename": "NameError",
     "evalue": "name 'read_questions' is not defined",
     "output_type": "error",
     "traceback": [
      "\u001b[0;31m---------------------------------------------------------------------------\u001b[0m",
      "\u001b[0;31mNameError\u001b[0m                                 Traceback (most recent call last)",
      "Cell \u001b[0;32mIn[3], line 2\u001b[0m\n\u001b[1;32m      1\u001b[0m \u001b[38;5;28;01mif\u001b[39;00m \u001b[38;5;18m__name__\u001b[39m \u001b[38;5;241m==\u001b[39m \u001b[38;5;124m'\u001b[39m\u001b[38;5;124m__main__\u001b[39m\u001b[38;5;124m'\u001b[39m:\n\u001b[0;32m----> 2\u001b[0m     \u001b[43mmain\u001b[49m\u001b[43m(\u001b[49m\u001b[43m)\u001b[49m\n",
      "Cell \u001b[0;32mIn[2], line 3\u001b[0m, in \u001b[0;36mmain\u001b[0;34m()\u001b[0m\n\u001b[1;32m      1\u001b[0m \u001b[38;5;28;01mdef\u001b[39;00m\u001b[38;5;250m \u001b[39m\u001b[38;5;21mmain\u001b[39m():\n\u001b[1;32m      2\u001b[0m     filename \u001b[38;5;241m=\u001b[39m \u001b[38;5;28minput\u001b[39m(\u001b[38;5;124m\"\u001b[39m\u001b[38;5;124mName of the question file: \u001b[39m\u001b[38;5;124m\"\u001b[39m)\n\u001b[0;32m----> 3\u001b[0m     answers \u001b[38;5;241m=\u001b[39m \u001b[43mread_questions\u001b[49m(filename)\n\u001b[1;32m      4\u001b[0m     correct, wrong \u001b[38;5;241m=\u001b[39m ask_questions(answers)\n\u001b[1;32m      5\u001b[0m     stats(correct, wrong, answers)\n",
      "\u001b[0;31mNameError\u001b[0m: name 'read_questions' is not defined"
     ]
    }
   ],
   "source": [
    "if __name__ == '__main__':\n",
    "    main()"
   ]
  },
  {
   "cell_type": "code",
   "execution_count": 4,
   "metadata": {},
   "outputs": [
    {
     "name": "stdout",
     "output_type": "stream",
     "text": [
      "You entered: Hello\n"
     ]
    }
   ],
   "source": [
    "message = input(\"Enter something: \")\n",
    "if message == '':\n",
    "    print(\"You didn't enter anything!\")\n",
    "else:\n",
    "    print(\"You entered:\", message)"
   ]
  },
  {
   "cell_type": "code",
   "execution_count": 5,
   "metadata": {},
   "outputs": [
    {
     "name": "stdout",
     "output_type": "stream",
     "text": [
      "You entered: Hello\n"
     ]
    }
   ],
   "source": [
    "message = input(\"Enter something: \")\n",
    "if message:\n",
    "    print(\"You entered:\", message)\n",
    "else:\n",
    "    print(\"You didn't enter anything!\")"
   ]
  },
  {
   "cell_type": "code",
   "execution_count": 7,
   "metadata": {},
   "outputs": [
    {
     "data": {
      "text/plain": [
       "True"
      ]
     },
     "execution_count": 7,
     "metadata": {},
     "output_type": "execute_result"
    }
   ],
   "source": [
    "bool('hello')\n",
    "\n",
    "bool('there')\n",
    "\n",
    "bool('True')\n",
    "\n",
    "bool('False')"
   ]
  },
  {
   "cell_type": "code",
   "execution_count": 8,
   "metadata": {},
   "outputs": [
    {
     "data": {
      "text/plain": [
       "False"
      ]
     },
     "execution_count": 8,
     "metadata": {},
     "output_type": "execute_result"
    }
   ],
   "source": [
    "bool('')"
   ]
  },
  {
   "cell_type": "code",
   "execution_count": 9,
   "metadata": {},
   "outputs": [
    {
     "data": {
      "text/plain": [
       "True"
      ]
     },
     "execution_count": 9,
     "metadata": {},
     "output_type": "execute_result"
    }
   ],
   "source": [
    "bool([1, 2, 3])"
   ]
  },
  {
   "cell_type": "code",
   "execution_count": 10,
   "metadata": {},
   "outputs": [
    {
     "data": {
      "text/plain": [
       "False"
      ]
     },
     "execution_count": 10,
     "metadata": {},
     "output_type": "execute_result"
    }
   ],
   "source": [
    "bool([])"
   ]
  },
  {
   "cell_type": "code",
   "execution_count": 11,
   "metadata": {},
   "outputs": [
    {
     "data": {
      "text/plain": [
       "True"
      ]
     },
     "execution_count": 11,
     "metadata": {},
     "output_type": "execute_result"
    }
   ],
   "source": [
    "bool((1, 2, 3))"
   ]
  },
  {
   "cell_type": "code",
   "execution_count": 12,
   "metadata": {},
   "outputs": [
    {
     "data": {
      "text/plain": [
       "False"
      ]
     },
     "execution_count": 12,
     "metadata": {},
     "output_type": "execute_result"
    }
   ],
   "source": [
    "bool(())"
   ]
  },
  {
   "cell_type": "code",
   "execution_count": 13,
   "metadata": {},
   "outputs": [
    {
     "data": {
      "text/plain": [
       "True"
      ]
     },
     "execution_count": 13,
     "metadata": {},
     "output_type": "execute_result"
    }
   ],
   "source": [
    "bool({'a': 1, 'b': 2})"
   ]
  },
  {
   "cell_type": "code",
   "execution_count": 14,
   "metadata": {},
   "outputs": [
    {
     "data": {
      "text/plain": [
       "False"
      ]
     },
     "execution_count": 14,
     "metadata": {},
     "output_type": "execute_result"
    }
   ],
   "source": [
    "bool({})"
   ]
  },
  {
   "cell_type": "code",
   "execution_count": 15,
   "metadata": {},
   "outputs": [
    {
     "data": {
      "text/plain": [
       "False"
      ]
     },
     "execution_count": 15,
     "metadata": {},
     "output_type": "execute_result"
    }
   ],
   "source": [
    "bool(None)"
   ]
  },
  {
   "cell_type": "code",
   "execution_count": 16,
   "metadata": {},
   "outputs": [
    {
     "data": {
      "text/plain": [
       "False"
      ]
     },
     "execution_count": 16,
     "metadata": {},
     "output_type": "execute_result"
    }
   ],
   "source": [
    "bool(0)"
   ]
  },
  {
   "cell_type": "code",
   "execution_count": 17,
   "metadata": {},
   "outputs": [
    {
     "data": {
      "text/plain": [
       "False"
      ]
     },
     "execution_count": 17,
     "metadata": {},
     "output_type": "execute_result"
    }
   ],
   "source": [
    "bool(0.0)"
   ]
  },
  {
   "cell_type": "code",
   "execution_count": 18,
   "metadata": {},
   "outputs": [
    {
     "data": {
      "text/plain": [
       "True"
      ]
     },
     "execution_count": 18,
     "metadata": {},
     "output_type": "execute_result"
    }
   ],
   "source": [
    "bool(1)"
   ]
  },
  {
   "cell_type": "code",
   "execution_count": 19,
   "metadata": {},
   "outputs": [
    {
     "data": {
      "text/plain": [
       "True"
      ]
     },
     "execution_count": 19,
     "metadata": {},
     "output_type": "execute_result"
    }
   ],
   "source": [
    "bool(-1)"
   ]
  },
  {
   "cell_type": "code",
   "execution_count": 20,
   "metadata": {},
   "outputs": [
    {
     "data": {
      "text/plain": [
       "True"
      ]
     },
     "execution_count": 20,
     "metadata": {},
     "output_type": "execute_result"
    }
   ],
   "source": [
    "bool(OSError)"
   ]
  },
  {
   "cell_type": "code",
   "execution_count": 21,
   "metadata": {},
   "outputs": [
    {
     "data": {
      "text/plain": [
       "True"
      ]
     },
     "execution_count": 21,
     "metadata": {},
     "output_type": "execute_result"
    }
   ],
   "source": [
    "bool(print)"
   ]
  },
  {
   "cell_type": "code",
   "execution_count": 22,
   "metadata": {},
   "outputs": [],
   "source": [
    "def is_this_empty(thing):\n",
    "    if thing == []:\n",
    "        print(\"It's empty!\")\n",
    "    else:\n",
    "        print(\"It's not empty.\")"
   ]
  },
  {
   "cell_type": "code",
   "execution_count": 23,
   "metadata": {},
   "outputs": [
    {
     "name": "stdout",
     "output_type": "stream",
     "text": [
      "It's not empty.\n"
     ]
    }
   ],
   "source": [
    "is_this_empty([1, 2, 3])"
   ]
  },
  {
   "cell_type": "code",
   "execution_count": 24,
   "metadata": {},
   "outputs": [
    {
     "name": "stdout",
     "output_type": "stream",
     "text": [
      "It's empty!\n"
     ]
    }
   ],
   "source": [
    "is_this_empty([])"
   ]
  },
  {
   "cell_type": "code",
   "execution_count": 25,
   "metadata": {},
   "outputs": [
    {
     "name": "stdout",
     "output_type": "stream",
     "text": [
      "It's not empty.\n"
     ]
    }
   ],
   "source": [
    "is_this_empty(())"
   ]
  },
  {
   "cell_type": "code",
   "execution_count": 26,
   "metadata": {},
   "outputs": [
    {
     "name": "stdout",
     "output_type": "stream",
     "text": [
      "It's not empty.\n"
     ]
    }
   ],
   "source": [
    "is_this_empty('')"
   ]
  },
  {
   "cell_type": "code",
   "execution_count": 27,
   "metadata": {},
   "outputs": [
    {
     "name": "stdout",
     "output_type": "stream",
     "text": [
      "It's not empty.\n"
     ]
    }
   ],
   "source": [
    "is_this_empty({})"
   ]
  },
  {
   "cell_type": "code",
   "execution_count": 28,
   "metadata": {},
   "outputs": [],
   "source": [
    "def is_this_empty(thing):\n",
    "    if thing == [] or thing == () or thing == '' or thing == {}:\n",
    "        print(\"It's empty!\")\n",
    "    else:\n",
    "        print(\"It's not empty.\")"
   ]
  },
  {
   "cell_type": "code",
   "execution_count": 29,
   "metadata": {},
   "outputs": [],
   "source": [
    "def is_this_empty(thing):\n",
    "    if thing:\n",
    "        print(\"It's not empty.\")\n",
    "    else:\n",
    "        print(\"It's empty!\")"
   ]
  },
  {
   "cell_type": "code",
   "execution_count": 31,
   "metadata": {},
   "outputs": [
    {
     "name": "stdout",
     "output_type": "stream",
     "text": [
      "number is not zero\n",
      "value is not None\n"
     ]
    }
   ],
   "source": [
    "number = 5\n",
    "value = \"hello\"\n",
    "\n",
    "if number != 0:\n",
    "    print(\"number is not zero\")\n",
    "\n",
    "if value is not None:\n",
    "    print(\"value is not None\")\n"
   ]
  },
  {
   "cell_type": "code",
   "execution_count": 14,
   "metadata": {},
   "outputs": [],
   "source": [
    "with open('hello.txt', 'w') as f:\n",
    "    print(\"Hello World!\", file=f)"
   ]
  },
  {
   "cell_type": "code",
   "execution_count": 25,
   "metadata": {},
   "outputs": [
    {
     "data": {
      "text/plain": [
       "['Hello one!\\n', 'Hello two!\\n', 'Hello three!\\n']"
      ]
     },
     "execution_count": 25,
     "metadata": {},
     "output_type": "execute_result"
    }
   ],
   "source": [
    "lines = []\n",
    "with open('hello.txt', 'r') as f:\n",
    "    for line in f:\n",
    "        lines.append(line)\n",
    "lines"
   ]
  },
  {
   "cell_type": "code",
   "execution_count": 21,
   "metadata": {},
   "outputs": [
    {
     "ename": "FileNotFoundError",
     "evalue": "[Errno 2] No such file or directory: 'notexitsfile.txt'",
     "output_type": "error",
     "traceback": [
      "\u001b[0;31m---------------------------------------------------------------------------\u001b[0m",
      "\u001b[0;31mFileNotFoundError\u001b[0m                         Traceback (most recent call last)",
      "Cell \u001b[0;32mIn[21], line 1\u001b[0m\n\u001b[0;32m----> 1\u001b[0m \u001b[38;5;28;01mwith\u001b[39;00m \u001b[38;5;28;43mopen\u001b[39;49m\u001b[43m(\u001b[49m\u001b[38;5;124;43m'\u001b[39;49m\u001b[38;5;124;43mnotexitsfile.txt\u001b[39;49m\u001b[38;5;124;43m'\u001b[39;49m\u001b[43m,\u001b[49m\u001b[43m \u001b[49m\u001b[38;5;124;43m'\u001b[39;49m\u001b[38;5;124;43mr\u001b[39;49m\u001b[38;5;124;43m'\u001b[39;49m\u001b[43m)\u001b[49m \u001b[38;5;28;01mas\u001b[39;00m f:\n\u001b[1;32m      2\u001b[0m     \u001b[38;5;28mprint\u001b[39m(\u001b[38;5;124m\"\u001b[39m\u001b[38;5;124mit\u001b[39m\u001b[38;5;124m'\u001b[39m\u001b[38;5;124ms working\u001b[39m\u001b[38;5;124m\"\u001b[39m)\n",
      "File \u001b[0;32m~/.local/lib/python3.8/site-packages/IPython/core/interactiveshell.py:284\u001b[0m, in \u001b[0;36m_modified_open\u001b[0;34m(file, *args, **kwargs)\u001b[0m\n\u001b[1;32m    277\u001b[0m \u001b[38;5;28;01mif\u001b[39;00m file \u001b[38;5;129;01min\u001b[39;00m {\u001b[38;5;241m0\u001b[39m, \u001b[38;5;241m1\u001b[39m, \u001b[38;5;241m2\u001b[39m}:\n\u001b[1;32m    278\u001b[0m     \u001b[38;5;28;01mraise\u001b[39;00m \u001b[38;5;167;01mValueError\u001b[39;00m(\n\u001b[1;32m    279\u001b[0m         \u001b[38;5;124mf\u001b[39m\u001b[38;5;124m\"\u001b[39m\u001b[38;5;124mIPython won\u001b[39m\u001b[38;5;124m'\u001b[39m\u001b[38;5;124mt let you open fd=\u001b[39m\u001b[38;5;132;01m{\u001b[39;00mfile\u001b[38;5;132;01m}\u001b[39;00m\u001b[38;5;124m by default \u001b[39m\u001b[38;5;124m\"\u001b[39m\n\u001b[1;32m    280\u001b[0m         \u001b[38;5;124m\"\u001b[39m\u001b[38;5;124mas it is likely to crash IPython. If you know what you are doing, \u001b[39m\u001b[38;5;124m\"\u001b[39m\n\u001b[1;32m    281\u001b[0m         \u001b[38;5;124m\"\u001b[39m\u001b[38;5;124myou can use builtins\u001b[39m\u001b[38;5;124m'\u001b[39m\u001b[38;5;124m open.\u001b[39m\u001b[38;5;124m\"\u001b[39m\n\u001b[1;32m    282\u001b[0m     )\n\u001b[0;32m--> 284\u001b[0m \u001b[38;5;28;01mreturn\u001b[39;00m \u001b[43mio_open\u001b[49m\u001b[43m(\u001b[49m\u001b[43mfile\u001b[49m\u001b[43m,\u001b[49m\u001b[43m \u001b[49m\u001b[38;5;241;43m*\u001b[39;49m\u001b[43margs\u001b[49m\u001b[43m,\u001b[49m\u001b[43m \u001b[49m\u001b[38;5;241;43m*\u001b[39;49m\u001b[38;5;241;43m*\u001b[39;49m\u001b[43mkwargs\u001b[49m\u001b[43m)\u001b[49m\n",
      "\u001b[0;31mFileNotFoundError\u001b[0m: [Errno 2] No such file or directory: 'notexitsfile.txt'"
     ]
    }
   ],
   "source": [
    "with open('notexitsfile.txt', 'r') as f:\n",
    "    print(\"it's working\")"
   ]
  },
  {
   "cell_type": "code",
   "execution_count": 24,
   "metadata": {},
   "outputs": [
    {
     "data": {
      "text/plain": [
       "['Hello one!\\n', 'Hello two!\\n', 'Hello three!\\n']"
      ]
     },
     "execution_count": 24,
     "metadata": {},
     "output_type": "execute_result"
    }
   ],
   "source": [
    "with open('hello.txt', 'w') as f:\n",
    "    print(\"Hello one!\", file=f)\n",
    "    print(\"Hello two!\", file=f)\n",
    "    print(\"Hello three!\", file=f)\n",
    "lines = []\n",
    "with open('hello.txt', 'r') as f:\n",
    "    for line in f:\n",
    "        lines.append(line)\n",
    "        # print(line)\n",
    "lines"
   ]
  },
  {
   "cell_type": "code",
   "execution_count": 27,
   "metadata": {},
   "outputs": [
    {
     "data": {
      "text/plain": [
       "['Hello one!', 'Hello two!', 'Hello three!']"
      ]
     },
     "execution_count": 27,
     "metadata": {},
     "output_type": "execute_result"
    }
   ],
   "source": [
    "stripped = []\n",
    "for line in lines:\n",
    "    stripped.append(line.rstrip('\\n'))\n",
    "stripped"
   ]
  },
  {
   "cell_type": "code",
   "execution_count": 30,
   "metadata": {},
   "outputs": [],
   "source": [
    "with open('hello.txt', 'r') as f:\n",
    "    first_line = f.readline()\n",
    "    second_line = f.readline()"
   ]
  },
  {
   "cell_type": "code",
   "execution_count": 31,
   "metadata": {},
   "outputs": [
    {
     "data": {
      "text/plain": [
       "'Hello one!\\n'"
      ]
     },
     "execution_count": 31,
     "metadata": {},
     "output_type": "execute_result"
    }
   ],
   "source": [
    "first_line"
   ]
  },
  {
   "cell_type": "code",
   "execution_count": 32,
   "metadata": {},
   "outputs": [
    {
     "data": {
      "text/plain": [
       "'Hello two!\\n'"
      ]
     },
     "execution_count": 32,
     "metadata": {},
     "output_type": "execute_result"
    }
   ],
   "source": [
    "second_line"
   ]
  },
  {
   "cell_type": "code",
   "execution_count": 33,
   "metadata": {},
   "outputs": [],
   "source": [
    "first = []\n",
    "second = []\n",
    "with open('hello.txt', 'r') as f:\n",
    "    for line in f:\n",
    "        first.append(line)\n",
    "    for line in f:\n",
    "        second.append(line)"
   ]
  },
  {
   "cell_type": "code",
   "execution_count": 34,
   "metadata": {},
   "outputs": [
    {
     "data": {
      "text/plain": [
       "['Hello one!\\n', 'Hello two!\\n', 'Hello three!\\n']"
      ]
     },
     "execution_count": 34,
     "metadata": {},
     "output_type": "execute_result"
    }
   ],
   "source": [
    "first"
   ]
  },
  {
   "cell_type": "code",
   "execution_count": 35,
   "metadata": {},
   "outputs": [
    {
     "data": {
      "text/plain": [
       "[]"
      ]
     },
     "execution_count": 35,
     "metadata": {},
     "output_type": "execute_result"
    }
   ],
   "source": [
    "second"
   ]
  },
  {
   "cell_type": "code",
   "execution_count": 36,
   "metadata": {},
   "outputs": [],
   "source": [
    "first = []\n",
    "second = []\n",
    "with open('hello.txt', 'r') as f:\n",
    "    for line in f:\n",
    "        first.append(line)\n",
    "with open('hello.txt', 'r') as f:\n",
    "    for line in f:\n",
    "        second.append(line)"
   ]
  },
  {
   "cell_type": "code",
   "execution_count": 37,
   "metadata": {},
   "outputs": [
    {
     "data": {
      "text/plain": [
       "['Hello one!\\n', 'Hello two!\\n', 'Hello three!\\n']"
      ]
     },
     "execution_count": 37,
     "metadata": {},
     "output_type": "execute_result"
    }
   ],
   "source": [
    "first"
   ]
  },
  {
   "cell_type": "code",
   "execution_count": 38,
   "metadata": {},
   "outputs": [
    {
     "data": {
      "text/plain": [
       "['Hello one!\\n', 'Hello two!\\n', 'Hello three!\\n']"
      ]
     },
     "execution_count": 38,
     "metadata": {},
     "output_type": "execute_result"
    }
   ],
   "source": [
    "second"
   ]
  },
  {
   "cell_type": "code",
   "execution_count": 40,
   "metadata": {},
   "outputs": [
    {
     "data": {
      "text/plain": [
       "'Hello one!\\nHello two!\\nHello three!\\n'"
      ]
     },
     "execution_count": 40,
     "metadata": {},
     "output_type": "execute_result"
    }
   ],
   "source": [
    "with open('hello.txt', 'r') as f:\n",
    "    all = f.read()\n",
    "all"
   ]
  },
  {
   "cell_type": "code",
   "execution_count": 44,
   "metadata": {},
   "outputs": [
    {
     "name": "stdout",
     "output_type": "stream",
     "text": [
      "Hello one!\n",
      "Hello two!\n",
      "Hello three!\n"
     ]
    }
   ],
   "source": [
    "while True:\n",
    "    filename = input(\"Filename or path: \")\n",
    "    if filename == '':\n",
    "        break\n",
    "\n",
    "    with open(filename, 'r') as f:\n",
    "        for line in f:\n",
    "            print(line.strip('\\n'))"
   ]
  },
  {
   "cell_type": "code",
   "execution_count": 47,
   "metadata": {},
   "outputs": [
    {
     "name": "stdout",
     "output_type": "stream",
     "text": [
      "Correct username and password, welcome!\n"
     ]
    }
   ],
   "source": [
    "while True:\n",
    "    answer = input(\"have you been here before? (y/n)\")\n",
    "    if answer == 'Y' or answer == 'y':\n",
    "        been_here_before = True\n",
    "        break\n",
    "    elif answer == 'N' or answer == 'n':\n",
    "        been_here_before = False\n",
    "        break\n",
    "    else:\n",
    "        print(\"Enter 'y' or 'n'.\")\n",
    "\n",
    "if been_here_before:\n",
    "    with open ('userinfo.txt', 'r') as f:\n",
    "        username = f.readline().rstrip('\\n')\n",
    "        password = f.readline().rstrip('\\n')\n",
    "\n",
    "    if input(\"Username: \") != username:\n",
    "        print(\"Wrong username!\")\n",
    "    elif input(\"Password: \") != password:\n",
    "        print(\"Wrong password!\")\n",
    "    else:\n",
    "        print(\"Correct username and password, welcome!\")\n",
    "\n",
    "else:\n",
    "    username = input(\"Username: \")\n",
    "    password = input(\"Password: \")\n",
    "    with open('userinfo.txt', 'w') as f:\n",
    "        print(username, file=f)\n",
    "        print(password, file=f)\n",
    "\n",
    "    print(\"Done! Now run this program again and select 'y'.\")"
   ]
  },
  {
   "cell_type": "code",
   "execution_count": 57,
   "metadata": {},
   "outputs": [
    {
     "data": {
      "text/plain": [
       "2"
      ]
     },
     "execution_count": 57,
     "metadata": {},
     "output_type": "execute_result"
    }
   ],
   "source": [
    "import random\n",
    "random.randint(1,6)"
   ]
  },
  {
   "cell_type": "code",
   "execution_count": 58,
   "metadata": {},
   "outputs": [
    {
     "data": {
      "text/plain": [
       "<module 'random' from '/usr/lib/python3.8/random.py'>"
      ]
     },
     "execution_count": 58,
     "metadata": {},
     "output_type": "execute_result"
    }
   ],
   "source": [
    "random"
   ]
  },
  {
   "cell_type": "code",
   "execution_count": 67,
   "metadata": {},
   "outputs": [
    {
     "name": "stdout",
     "output_type": "stream",
     "text": [
      "A random number between 1 and 3: 1\n"
     ]
    }
   ],
   "source": [
    "import random\n",
    "\n",
    "print(\"A random number between 1 and 3:\", random.randint(1, 3))"
   ]
  },
  {
   "cell_type": "code",
   "execution_count": 71,
   "metadata": {},
   "outputs": [
    {
     "ename": "SyntaxError",
     "evalue": "invalid syntax (2980105255.py, line 1)",
     "output_type": "error",
     "traceback": [
      "\u001b[0;36m  Cell \u001b[0;32mIn[71], line 1\u001b[0;36m\u001b[0m\n\u001b[0;31m    Traceback (most recent call last):\u001b[0m\n\u001b[0m                    ^\u001b[0m\n\u001b[0;31mSyntaxError\u001b[0m\u001b[0;31m:\u001b[0m invalid syntax\n"
     ]
    }
   ],
   "source": [
    "Traceback (most recent call last):\n",
    "  File \"random.py\", line 1, in <module>\n",
    "    import random\n",
    "  File \"/home/akuli/random.py\", line 4, in <module>\n",
    "    print(\"A random number between 1 and 3:\", random.randint(1, 3))\n",
    "AttributeError: 'module' object has no attribute 'randint'"
   ]
  },
  {
   "cell_type": "code",
   "execution_count": 75,
   "metadata": {},
   "outputs": [
    {
     "ename": "ValueError",
     "evalue": "invalid literal for int() with base 10: 'lol'",
     "output_type": "error",
     "traceback": [
      "\u001b[0;31m---------------------------------------------------------------------------\u001b[0m",
      "\u001b[0;31mValueError\u001b[0m                                Traceback (most recent call last)",
      "Cell \u001b[0;32mIn[75], line 2\u001b[0m\n\u001b[1;32m      1\u001b[0m text \u001b[38;5;241m=\u001b[39m \u001b[38;5;28minput\u001b[39m(\u001b[38;5;124m\"\u001b[39m\u001b[38;5;124mEnter something: \u001b[39m\u001b[38;5;124m\"\u001b[39m)\n\u001b[0;32m----> 2\u001b[0m number \u001b[38;5;241m=\u001b[39m \u001b[38;5;28;43mint\u001b[39;49m\u001b[43m(\u001b[49m\u001b[43mtext\u001b[49m\u001b[43m)\u001b[49m\n\u001b[1;32m      3\u001b[0m \u001b[38;5;28mprint\u001b[39m(\u001b[38;5;124m\"\u001b[39m\u001b[38;5;124mYour number doubled:\u001b[39m\u001b[38;5;124m\"\u001b[39m, number\u001b[38;5;241m*\u001b[39m\u001b[38;5;241m2\u001b[39m)\n",
      "\u001b[0;31mValueError\u001b[0m: invalid literal for int() with base 10: 'lol'"
     ]
    }
   ],
   "source": [
    "text = input(\"Enter something: \")\n",
    "number = int(text)\n",
    "print(\"Your number doubled:\", number*2)"
   ]
  },
  {
   "cell_type": "code",
   "execution_count": 74,
   "metadata": {},
   "outputs": [
    {
     "data": {
      "text/plain": [
       "ValueError('oh no..!')"
      ]
     },
     "execution_count": 74,
     "metadata": {},
     "output_type": "execute_result"
    }
   ],
   "source": [
    "the_problem = ValueError('oh no..!')\n",
    "the_problem"
   ]
  },
  {
   "cell_type": "code",
   "execution_count": 80,
   "metadata": {},
   "outputs": [
    {
     "name": "stdout",
     "output_type": "stream",
     "text": [
      "no\n"
     ]
    }
   ],
   "source": [
    "try:\n",
    "    print(int('no'))\n",
    "except ValueError:\n",
    "    print(\"not a right value\")"
   ]
  },
  {
   "cell_type": "code",
   "execution_count": 81,
   "metadata": {},
   "outputs": [
    {
     "name": "stdout",
     "output_type": "stream",
     "text": [
      "nooo\n"
     ]
    }
   ],
   "source": [
    "try:\n",
    "    print(\"nooo\")\n",
    "except ValueError:\n",
    "    print(\"wrong value\")"
   ]
  },
  {
   "cell_type": "code",
   "execution_count": 85,
   "metadata": {},
   "outputs": [
    {
     "name": "stdout",
     "output_type": "stream",
     "text": [
      "This print...?\n"
     ]
    }
   ],
   "source": [
    "try:\n",
    "    123 + 'hello'\n",
    "    print(\"This print...?\")\n",
    "except TypeError:\n",
    "    print(\"noooo........\")"
   ]
  },
  {
   "cell_type": "code",
   "execution_count": 90,
   "metadata": {},
   "outputs": [
    {
     "ename": "TypeError",
     "evalue": "unsupported operand type(s) for +: 'int' and 'str'",
     "output_type": "error",
     "traceback": [
      "\u001b[0;31m---------------------------------------------------------------------------\u001b[0m",
      "\u001b[0;31mTypeError\u001b[0m                                 Traceback (most recent call last)",
      "Cell \u001b[0;32mIn[90], line 2\u001b[0m\n\u001b[1;32m      1\u001b[0m \u001b[38;5;28;01mtry\u001b[39;00m:\n\u001b[0;32m----> 2\u001b[0m     \u001b[38;5;28mprint\u001b[39m(\u001b[38;5;241;43m123\u001b[39;49m\u001b[43m \u001b[49m\u001b[38;5;241;43m+\u001b[39;49m\u001b[43m \u001b[49m\u001b[38;5;124;43m'\u001b[39;49m\u001b[38;5;124;43mabc\u001b[39;49m\u001b[38;5;124;43m'\u001b[39;49m)\n\u001b[1;32m      3\u001b[0m \u001b[38;5;28;01mexcept\u001b[39;00m \u001b[38;5;167;01mValueError\u001b[39;00m:\n\u001b[1;32m      4\u001b[0m     \u001b[38;5;28mprint\u001b[39m(\u001b[38;5;124m\"\u001b[39m\u001b[38;5;124mnoooo........\u001b[39m\u001b[38;5;124m\"\u001b[39m)\n",
      "\u001b[0;31mTypeError\u001b[0m: unsupported operand type(s) for +: 'int' and 'str'"
     ]
    }
   ],
   "source": [
    "try:\n",
    "    print(123 + 'abc')\n",
    "except ValueError:\n",
    "    print(\"noooo........\")"
   ]
  },
  {
   "cell_type": "code",
   "execution_count": 92,
   "metadata": {},
   "outputs": [
    {
     "name": "stdout",
     "output_type": "stream",
     "text": [
      "wrong value or type\n"
     ]
    }
   ],
   "source": [
    "try:\n",
    "    123 + 'abc'\n",
    "except (ValueError,TypeError):\n",
    "    print('wrong value or type')"
   ]
  },
  {
   "cell_type": "code",
   "execution_count": 93,
   "metadata": {},
   "outputs": [
    {
     "name": "stdout",
     "output_type": "stream",
     "text": [
      "wrong value or type\n"
     ]
    }
   ],
   "source": [
    "try:\n",
    "    int('lol')\n",
    "except (ValueError,TypeError):\n",
    "    print('wrong value or type')"
   ]
  },
  {
   "cell_type": "code",
   "execution_count": 94,
   "metadata": {},
   "outputs": [
    {
     "name": "stdout",
     "output_type": "stream",
     "text": [
      "error...!\n"
     ]
    }
   ],
   "source": [
    "try:\n",
    "    123 + 'abc'\n",
    "except Exception:\n",
    "    print('error...!')"
   ]
  },
  {
   "cell_type": "code",
   "execution_count": 95,
   "metadata": {},
   "outputs": [
    {
     "name": "stdout",
     "output_type": "stream",
     "text": [
      "error......\n"
     ]
    }
   ],
   "source": [
    "try:\n",
    "    int('lol')\n",
    "except Exception:\n",
    "    print('error......')"
   ]
  },
  {
   "cell_type": "code",
   "execution_count": 98,
   "metadata": {},
   "outputs": [
    {
     "ename": "NameError",
     "evalue": "name 'some_default_content' is not defined",
     "output_type": "error",
     "traceback": [
      "\u001b[0;31m---------------------------------------------------------------------------\u001b[0m",
      "\u001b[0;31mFileNotFoundError\u001b[0m                         Traceback (most recent call last)",
      "Cell \u001b[0;32mIn[98], line 2\u001b[0m\n\u001b[1;32m      1\u001b[0m \u001b[38;5;28;01mtry\u001b[39;00m:\n\u001b[0;32m----> 2\u001b[0m     \u001b[38;5;28;01mwith\u001b[39;00m \u001b[38;5;28;43mopen\u001b[39;49m\u001b[43m(\u001b[49m\u001b[38;5;124;43m'\u001b[39;49m\u001b[38;5;124;43msome file\u001b[39;49m\u001b[38;5;124;43m'\u001b[39;49m\u001b[43m,\u001b[49m\u001b[43m \u001b[49m\u001b[38;5;124;43m'\u001b[39;49m\u001b[38;5;124;43mr\u001b[39;49m\u001b[38;5;124;43m'\u001b[39;49m\u001b[43m)\u001b[49m \u001b[38;5;28;01mas\u001b[39;00m f:\n\u001b[1;32m      3\u001b[0m         content \u001b[38;5;241m=\u001b[39m f\u001b[38;5;241m.\u001b[39mread()\n",
      "File \u001b[0;32m~/.local/lib/python3.8/site-packages/IPython/core/interactiveshell.py:284\u001b[0m, in \u001b[0;36m_modified_open\u001b[0;34m(file, *args, **kwargs)\u001b[0m\n\u001b[1;32m    278\u001b[0m     \u001b[38;5;28;01mraise\u001b[39;00m \u001b[38;5;167;01mValueError\u001b[39;00m(\n\u001b[1;32m    279\u001b[0m         \u001b[38;5;124mf\u001b[39m\u001b[38;5;124m\"\u001b[39m\u001b[38;5;124mIPython won\u001b[39m\u001b[38;5;124m'\u001b[39m\u001b[38;5;124mt let you open fd=\u001b[39m\u001b[38;5;132;01m{\u001b[39;00mfile\u001b[38;5;132;01m}\u001b[39;00m\u001b[38;5;124m by default \u001b[39m\u001b[38;5;124m\"\u001b[39m\n\u001b[1;32m    280\u001b[0m         \u001b[38;5;124m\"\u001b[39m\u001b[38;5;124mas it is likely to crash IPython. If you know what you are doing, \u001b[39m\u001b[38;5;124m\"\u001b[39m\n\u001b[1;32m    281\u001b[0m         \u001b[38;5;124m\"\u001b[39m\u001b[38;5;124myou can use builtins\u001b[39m\u001b[38;5;124m'\u001b[39m\u001b[38;5;124m open.\u001b[39m\u001b[38;5;124m\"\u001b[39m\n\u001b[1;32m    282\u001b[0m     )\n\u001b[0;32m--> 284\u001b[0m \u001b[38;5;28;01mreturn\u001b[39;00m \u001b[43mio_open\u001b[49m\u001b[43m(\u001b[49m\u001b[43mfile\u001b[49m\u001b[43m,\u001b[49m\u001b[43m \u001b[49m\u001b[38;5;241;43m*\u001b[39;49m\u001b[43margs\u001b[49m\u001b[43m,\u001b[49m\u001b[43m \u001b[49m\u001b[38;5;241;43m*\u001b[39;49m\u001b[38;5;241;43m*\u001b[39;49m\u001b[43mkwargs\u001b[49m\u001b[43m)\u001b[49m\n",
      "\u001b[0;31mFileNotFoundError\u001b[0m: [Errno 2] No such file or directory: 'some file'",
      "\nDuring handling of the above exception, another exception occurred:\n",
      "\u001b[0;31mNameError\u001b[0m                                 Traceback (most recent call last)",
      "Cell \u001b[0;32mIn[98], line 5\u001b[0m\n\u001b[1;32m      3\u001b[0m         content \u001b[38;5;241m=\u001b[39m f\u001b[38;5;241m.\u001b[39mread()\n\u001b[1;32m      4\u001b[0m \u001b[38;5;28;01mexcept\u001b[39;00m \u001b[38;5;167;01mOSError\u001b[39;00m:\n\u001b[0;32m----> 5\u001b[0m     content \u001b[38;5;241m=\u001b[39m \u001b[43msome_default_content\u001b[49m\n",
      "\u001b[0;31mNameError\u001b[0m: name 'some_default_content' is not defined"
     ]
    }
   ],
   "source": [
    "try:\n",
    "    with open('some file', 'r') as f:\n",
    "        content = f.read()\n",
    "except OSError:\n",
    "    content = some_default_content"
   ]
  },
  {
   "cell_type": "code",
   "execution_count": 99,
   "metadata": {},
   "outputs": [
    {
     "name": "stdout",
     "output_type": "stream",
     "text": [
      "Your number doubled is 18.\n"
     ]
    }
   ],
   "source": [
    "import sys\n",
    "text = input(\"enter any numer: \")\n",
    "try:\n",
    "    number = int(text)\n",
    "except ValueError:\n",
    "    print(f\"'{text}' is not a number.\", file=sys.stderr)\n",
    "    sys.exit(1)\n",
    "print(f\"Your number doubled is {(number * 2)}.\")\n"
   ]
  },
  {
   "cell_type": "code",
   "execution_count": 100,
   "metadata": {},
   "outputs": [
    {
     "ename": "ValueError",
     "evalue": "lol is not a number",
     "output_type": "error",
     "traceback": [
      "\u001b[0;31m---------------------------------------------------------------------------\u001b[0m",
      "\u001b[0;31mValueError\u001b[0m                                Traceback (most recent call last)",
      "Cell \u001b[0;32mIn[100], line 1\u001b[0m\n\u001b[0;32m----> 1\u001b[0m \u001b[38;5;28;01mraise\u001b[39;00m \u001b[38;5;167;01mValueError\u001b[39;00m(\u001b[38;5;124m'\u001b[39m\u001b[38;5;124mlol is not a number\u001b[39m\u001b[38;5;124m'\u001b[39m)\n",
      "\u001b[0;31mValueError\u001b[0m: lol is not a number"
     ]
    }
   ],
   "source": [
    "raise ValueError('lol is not a number')"
   ]
  },
  {
   "cell_type": "code",
   "execution_count": 101,
   "metadata": {},
   "outputs": [
    {
     "ename": "ValueError",
     "evalue": "lol is not a number",
     "output_type": "error",
     "traceback": [
      "\u001b[0;31m---------------------------------------------------------------------------\u001b[0m",
      "\u001b[0;31mValueError\u001b[0m                                Traceback (most recent call last)",
      "Cell \u001b[0;32mIn[101], line 2\u001b[0m\n\u001b[1;32m      1\u001b[0m oops \u001b[38;5;241m=\u001b[39m \u001b[38;5;167;01mValueError\u001b[39;00m(\u001b[38;5;124m\"\u001b[39m\u001b[38;5;124mlol is not a number\u001b[39m\u001b[38;5;124m\"\u001b[39m)\n\u001b[0;32m----> 2\u001b[0m \u001b[38;5;28;01mraise\u001b[39;00m oops\n",
      "\u001b[0;31mValueError\u001b[0m: lol is not a number"
     ]
    }
   ],
   "source": [
    "oops = ValueError(\"lol is not a number\")\n",
    "raise oops"
   ]
  },
  {
   "cell_type": "code",
   "execution_count": 102,
   "metadata": {},
   "outputs": [
    {
     "ename": "ValueError",
     "evalue": "oh no!",
     "output_type": "error",
     "traceback": [
      "\u001b[0;31m---------------------------------------------------------------------------\u001b[0m",
      "\u001b[0;31mValueError\u001b[0m                                Traceback (most recent call last)",
      "Cell \u001b[0;32mIn[102], line 6\u001b[0m\n\u001b[1;32m      4\u001b[0m \u001b[38;5;28;01mdef\u001b[39;00m\u001b[38;5;250m \u001b[39m\u001b[38;5;21mdo_the_oops\u001b[39m():\n\u001b[1;32m      5\u001b[0m     oops()\n\u001b[0;32m----> 6\u001b[0m \u001b[43mdo_the_oops\u001b[49m\u001b[43m(\u001b[49m\u001b[43m)\u001b[49m\n",
      "Cell \u001b[0;32mIn[102], line 5\u001b[0m, in \u001b[0;36mdo_the_oops\u001b[0;34m()\u001b[0m\n\u001b[1;32m      4\u001b[0m \u001b[38;5;28;01mdef\u001b[39;00m\u001b[38;5;250m \u001b[39m\u001b[38;5;21mdo_the_oops\u001b[39m():\n\u001b[0;32m----> 5\u001b[0m     \u001b[43moops\u001b[49m\u001b[43m(\u001b[49m\u001b[43m)\u001b[49m\n",
      "Cell \u001b[0;32mIn[102], line 2\u001b[0m, in \u001b[0;36moops\u001b[0;34m()\u001b[0m\n\u001b[1;32m      1\u001b[0m \u001b[38;5;28;01mdef\u001b[39;00m\u001b[38;5;250m \u001b[39m\u001b[38;5;21moops\u001b[39m():\n\u001b[0;32m----> 2\u001b[0m     \u001b[38;5;28;01mraise\u001b[39;00m \u001b[38;5;167;01mValueError\u001b[39;00m(\u001b[38;5;124m\"\u001b[39m\u001b[38;5;124moh no!\u001b[39m\u001b[38;5;124m\"\u001b[39m)\n",
      "\u001b[0;31mValueError\u001b[0m: oh no!"
     ]
    }
   ],
   "source": [
    "def oops():\n",
    "    raise ValueError(\"oh no!\")\n",
    "\n",
    "def do_the_oops():\n",
    "    oops()\n",
    "do_the_oops()"
   ]
  },
  {
   "cell_type": "code",
   "execution_count": 103,
   "metadata": {},
   "outputs": [
    {
     "name": "stdout",
     "output_type": "stream",
     "text": [
      "Your number doubled is: 12\n"
     ]
    }
   ],
   "source": [
    "while True:\n",
    "    try:\n",
    "        number = int(input(\"Enter number: \"))\n",
    "        break\n",
    "    except ValueError:\n",
    "        print(\"That is not a valid number...! Try again...\")\n",
    "print(\"Your number doubled is:\", number * 2)"
   ]
  },
  {
   "cell_type": "code",
   "execution_count": 108,
   "metadata": {},
   "outputs": [
    {
     "name": "stderr",
     "output_type": "stream",
     "text": [
      "Cannot read 'greeting.txt'!\n"
     ]
    }
   ],
   "source": [
    "default_greeting = \"Hello World!\"\n",
    "filename = \"greeting.txt\"\n",
    "\n",
    "\n",
    "import sys\n",
    "\n",
    "def askyesno(question):\n",
    "    while True:\n",
    "        answer = input(question + ' (y or n) ')\n",
    "        if answer == 'Y' or answer == 'y':\n",
    "            return True\n",
    "        if answer == 'N' or answer == 'n':\n",
    "            return False\n",
    "\n",
    "def greet():\n",
    "    with open(filename, 'r') as f:\n",
    "        for line in f:\n",
    "            print(line.rstrip('\\n'))\n",
    "\n",
    "try:\n",
    "    greet()\n",
    "except OSError:\n",
    "    print(f\"Cannot read '{filename}'!\", file=sys.stderr)\n",
    "    if askyesno(\"Would you like to create a default greeting file?\"):\n",
    "        with open(filename, 'w') as f:\n",
    "            print(default_greeting, file=f)\n",
    "        greet()"
   ]
  },
  {
   "cell_type": "code",
   "execution_count": 1,
   "metadata": {},
   "outputs": [
    {
     "data": {
      "text/plain": [
       "str"
      ]
     },
     "execution_count": 1,
     "metadata": {},
     "output_type": "execute_result"
    }
   ],
   "source": [
    "type ('')"
   ]
  },
  {
   "cell_type": "code",
   "execution_count": 2,
   "metadata": {},
   "outputs": [
    {
     "data": {
      "text/plain": [
       "int"
      ]
     },
     "execution_count": 2,
     "metadata": {},
     "output_type": "execute_result"
    }
   ],
   "source": [
    "type(0)"
   ]
  },
  {
   "cell_type": "code",
   "execution_count": 4,
   "metadata": {},
   "outputs": [
    {
     "data": {
      "text/plain": [
       "list"
      ]
     },
     "execution_count": 4,
     "metadata": {},
     "output_type": "execute_result"
    }
   ],
   "source": [
    "type([])"
   ]
  },
  {
   "cell_type": "code",
   "execution_count": 5,
   "metadata": {},
   "outputs": [
    {
     "data": {
      "text/plain": [
       "dict"
      ]
     },
     "execution_count": 5,
     "metadata": {},
     "output_type": "execute_result"
    }
   ],
   "source": [
    "type({})"
   ]
  },
  {
   "cell_type": "code",
   "execution_count": 12,
   "metadata": {},
   "outputs": [],
   "source": [
    "class website:\n",
    "    pass"
   ]
  },
  {
   "cell_type": "code",
   "execution_count": 16,
   "metadata": {},
   "outputs": [
    {
     "data": {
      "text/plain": [
       "__main__.website"
      ]
     },
     "execution_count": 16,
     "metadata": {},
     "output_type": "execute_result"
    }
   ],
   "source": [
    "website"
   ]
  },
  {
   "cell_type": "code",
   "execution_count": 17,
   "metadata": {},
   "outputs": [
    {
     "data": {
      "text/plain": [
       "__main__.website"
      ]
     },
     "execution_count": 17,
     "metadata": {},
     "output_type": "execute_result"
    }
   ],
   "source": [
    "github = website()\n",
    "website"
   ]
  },
  {
   "cell_type": "code",
   "execution_count": 18,
   "metadata": {},
   "outputs": [
    {
     "data": {
      "text/plain": [
       "__main__.website"
      ]
     },
     "execution_count": 18,
     "metadata": {},
     "output_type": "execute_result"
    }
   ],
   "source": [
    "type(github)"
   ]
  },
  {
   "cell_type": "code",
   "execution_count": 19,
   "metadata": {},
   "outputs": [],
   "source": [
    "github.url = 'https://github.com/'\n",
    "github.founding_year = 2008\n",
    "github.free_to_use = True"
   ]
  },
  {
   "cell_type": "code",
   "execution_count": 26,
   "metadata": {},
   "outputs": [
    {
     "data": {
      "text/plain": [
       "True"
      ]
     },
     "execution_count": 26,
     "metadata": {},
     "output_type": "execute_result"
    }
   ],
   "source": [
    "github.url\n",
    "github.founding_year\n",
    "github.free_to_use"
   ]
  },
  {
   "cell_type": "code",
   "execution_count": 111,
   "metadata": {},
   "outputs": [
    {
     "ename": "NameError",
     "evalue": "name 'Website' is not defined",
     "output_type": "error",
     "traceback": [
      "\u001b[0;31m---------------------------------------------------------------------------\u001b[0m",
      "\u001b[0;31mNameError\u001b[0m                                 Traceback (most recent call last)",
      "Cell \u001b[0;32mIn[111], line 1\u001b[0m\n\u001b[0;32m----> 1\u001b[0m effbot \u001b[38;5;241m=\u001b[39m \u001b[43mWebsite\u001b[49m()\n\u001b[1;32m      2\u001b[0m effbot\u001b[38;5;241m.\u001b[39murl\n",
      "\u001b[0;31mNameError\u001b[0m: name 'Website' is not defined"
     ]
    }
   ],
   "source": [
    "effbot = Website()\n",
    "effbot.url"
   ]
  },
  {
   "cell_type": "code",
   "execution_count": 28,
   "metadata": {},
   "outputs": [
    {
     "data": {
      "text/plain": [
       "{'url': 'https://github.com/', 'founding_year': 2008, 'free_to_use': True}"
      ]
     },
     "execution_count": 28,
     "metadata": {},
     "output_type": "execute_result"
    }
   ],
   "source": [
    "github.__dict__"
   ]
  },
  {
   "cell_type": "code",
   "execution_count": 29,
   "metadata": {},
   "outputs": [
    {
     "data": {
      "text/plain": [
       "{}"
      ]
     },
     "execution_count": 29,
     "metadata": {},
     "output_type": "execute_result"
    }
   ],
   "source": [
    "effbot.__dict__"
   ]
  },
  {
   "cell_type": "code",
   "execution_count": 112,
   "metadata": {},
   "outputs": [
    {
     "name": "stdout",
     "output_type": "stream",
     "text": [
      "Help on built-in function append:\n",
      "\n",
      "append(object, /) method of builtins.list instance\n",
      "    Append object to the end of the list.\n",
      "\n"
     ]
    }
   ],
   "source": [
    "stuff = []\n",
    "help(stuff.append)"
   ]
  },
  {
   "cell_type": "code",
   "execution_count": 114,
   "metadata": {},
   "outputs": [
    {
     "name": "stdout",
     "output_type": "stream",
     "text": [
      "Help on built-in function print in module builtins:\n",
      "\n",
      "print(...)\n",
      "    print(value, ..., sep=' ', end='\\n', file=sys.stdout, flush=False)\n",
      "    \n",
      "    Prints the values to a stream, or to sys.stdout by default.\n",
      "    Optional keyword arguments:\n",
      "    file:  a file-like object (stream); defaults to the current sys.stdout.\n",
      "    sep:   string inserted between values, default a space.\n",
      "    end:   string appended after the last value, default a newline.\n",
      "    flush: whether to forcibly flush the stream.\n",
      "\n"
     ]
    }
   ],
   "source": [
    "help(print)"
   ]
  },
  {
   "cell_type": "code",
   "execution_count": 116,
   "metadata": {},
   "outputs": [
    {
     "name": "stdout",
     "output_type": "stream",
     "text": [
      "Help on function thing in module __main__:\n",
      "\n",
      "thing(stuff)\n",
      "\n"
     ]
    }
   ],
   "source": [
    "def thing(stuff):\n",
    "    return stuff * 2\n",
    "help(thing)"
   ]
  },
  {
   "cell_type": "code",
   "execution_count": 117,
   "metadata": {},
   "outputs": [
    {
     "name": "stdout",
     "output_type": "stream",
     "text": [
      "Help on function thing in module __main__:\n",
      "\n",
      "thing(stuff)\n",
      "    hello there\n",
      "\n"
     ]
    }
   ],
   "source": [
    "def thing(stuff):\n",
    "    \"hello there\"\n",
    "    return stuff * 2\n",
    "help(thing)"
   ]
  },
  {
   "cell_type": "code",
   "execution_count": 120,
   "metadata": {},
   "outputs": [
    {
     "name": "stdout",
     "output_type": "stream",
     "text": [
      "Help on function thing in module __main__:\n",
      "\n",
      "thing()\n",
      "    This thing does stuff.\n",
      "    \n",
      "    It always returns None.\n",
      "\n"
     ]
    }
   ],
   "source": [
    "def thing():\n",
    "    \"This thing does stuff.\\n\\nIt always returns None.\"\n",
    "help(thing)"
   ]
  },
  {
   "cell_type": "code",
   "execution_count": 122,
   "metadata": {},
   "outputs": [
    {
     "name": "stdout",
     "output_type": "stream",
     "text": [
      "Help on function thing in module __main__:\n",
      "\n",
      "thing()\n",
      "    This thing does stuff.\n",
      "    It always returns None.\n",
      "\n"
     ]
    }
   ],
   "source": [
    "def thing():\n",
    "    \"\"\"This thing does stuff.\n",
    "    It always returns None.\n",
    "    \"\"\"\n",
    "help(thing)"
   ]
  },
  {
   "cell_type": "code",
   "execution_count": 123,
   "metadata": {},
   "outputs": [],
   "source": [
    "class Thing:\n",
    "    \"\"\"This is a test class.\"\"\"\n",
    "\n",
    "    def thingy(self):\n",
    "        \"\"\"This is a test method.\"\"\"\n",
    "        print(\"hello\")\n",
    "\n",
    "\n",
    "def do_hello():\n",
    "    \"\"\"This is a test function.\"\"\"\n",
    "    thing = Thing()\n",
    "    thing.thingy()"
   ]
  },
  {
   "cell_type": "code",
   "execution_count": 124,
   "metadata": {},
   "outputs": [
    {
     "name": "stdout",
     "output_type": "stream",
     "text": [
      "Help on package test:\n",
      "\n",
      "NAME\n",
      "    test - # Dummy file to make this directory a package.\n",
      "\n",
      "MODULE REFERENCE\n",
      "    https://docs.python.org/3.8/library/test\n",
      "    \n",
      "    The following documentation is automatically generated from the Python\n",
      "    source files.  It may be incomplete, incorrect or include features that\n",
      "    are considered implementation detail and may vary between Python\n",
      "    implementations.  When in doubt, consult the module reference at the\n",
      "    location listed above.\n",
      "\n",
      "PACKAGE CONTENTS\n",
      "    __main__\n",
      "    ann_module\n",
      "    ann_module2\n",
      "    ann_module3\n",
      "    libregrtest (package)\n",
      "    regrtest\n",
      "    support (package)\n",
      "    test_support\n",
      "\n",
      "FILE\n",
      "    /usr/lib/python3.8/test/__init__.py\n",
      "\n",
      "\n"
     ]
    }
   ],
   "source": [
    "import test\n",
    "help(test)"
   ]
  },
  {
   "cell_type": "code",
   "execution_count": 125,
   "metadata": {},
   "outputs": [],
   "source": [
    "class Vehicles:\n",
    "    \"\"\"\n",
    "    The Vehicles object contains lots of vehicles.\n",
    "    :param arg: The arg is used for ...\n",
    "    :type arg: str\n",
    "    :ivar arg: This is where we store arg\n",
    "    :vartype arg: str\n",
    "    \"\"\"\n",
    "\n",
    "    def __init__(self, arg):\n",
    "        self.arg = arg\n",
    "\n",
    "    def cars(self, distance, destination):\n",
    "        \"\"\"We can't travel a certain distance in vehicles without fuels, so here's the fuels\n",
    "\n",
    "        :param distance: The amount of distance traveled\n",
    "        :type amount: int\n",
    "        :param bool destinationReached: Should the fuels be refilled to cover required distance?\n",
    "        :raises: :class:`RuntimeError`: Out of fuel\n",
    "\n",
    "        :returns: A Car mileage\n",
    "        :rtype: Cars\n",
    "        \"\"\"  \n",
    "        ..."
   ]
  },
  {
   "cell_type": "code",
   "execution_count": null,
   "metadata": {},
   "outputs": [],
   "source": []
  }
 ],
 "metadata": {
  "kernelspec": {
   "display_name": "Python 3",
   "language": "python",
   "name": "python3"
  },
  "language_info": {
   "codemirror_mode": {
    "name": "ipython",
    "version": 3
   },
   "file_extension": ".py",
   "mimetype": "text/x-python",
   "name": "python",
   "nbconvert_exporter": "python",
   "pygments_lexer": "ipython3",
   "version": "3.8.10"
  }
 },
 "nbformat": 4,
 "nbformat_minor": 2
}
