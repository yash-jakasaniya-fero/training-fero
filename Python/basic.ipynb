{
 "cells": [
  {
   "cell_type": "code",
   "execution_count": 6,
   "metadata": {},
   "outputs": [
    {
     "name": "stdout",
     "output_type": "stream",
     "text": [
      "yash yash yash yash yash yash yash yash yash yash yash yash yash yash yash yash yash yash yash yash yash yash yash yash yash yash yash yash yash yash yash yash yash yash yash yash yash yash yash yash yash yash yash yash yash yash yash yash yash yash yash yash yash yash yash yash yash yash yash yash yash yash yash yash yash yash yash yash yash yash yash yash yash yash yash yash yash yash yash yash yash yash yash yash yash yash yash yash yash yash yash yash yash yash yash yash yash yash yash yash yash yash yash yash yash yash yash yash yash yash yash yash yash yash yash yash yash yash yash yash yash yash yash yash yash yash yash yash yash yash yash yash yash yash yash yash yash yash yash yash yash yash yash yash yash yash yash yash yash yash yash yash yash yash yash yash yash yash yash yash yash yash yash yash yash yash yash yash yash yash yash yash yash yash yash yash yash yash yash yash yash yash yash yash yash yash yash yash yash yash yash yash yash yash yash yash yash yash yash yash yash yash yash yash yash yash yash yash yash yash yash yash yash yash yash yash yash yash yash yash yash yash yash yash yash yash yash yash yash yash yash yash yash yash yash yash yash yash yash yash yash yash yash yash yash yash yash yash yash yash yash yash yash yash yash yash yash yash yash yash yash yash yash yash yash yash yash yash yash yash yash yash yash yash yash yash yash yash yash yash yash yash yash yash yash yash yash yash yash yash yash yash yash yash yash yash yash yash yash yash yash yash yash yash yash yash yash yash yash yash yash yash yash yash yash yash yash yash yash yash yash yash yash yash yash yash yash yash yash yash yash yash yash yash yash yash yash yash yash yash yash yash yash yash yash yash yash yash yash yash yash yash yash yash yash yash yash yash yash yash yash yash yash yash yash yash yash yash yash yash yash yash yash yash yash yash yash yash yash yash yash yash yash yash yash yash yash yash yash yash yash yash yash yash yash yash yash yash yash yash yash yash yash yash yash yash yash yash yash yash yash yash yash yash yash yash yash yash yash yash yash yash yash yash yash yash yash yash yash yash yash yash yash yash yash yash yash yash yash yash yash yash yash yash yash yash yash yash yash yash yash yash yash yash yash yash yash yash yash yash yash yash yash yash yash yash yash yash yash yash yash yash yash yash yash yash yash yash yash yash yash yash yash yash yash yash yash yash yash yash yash yash yash yash yash yash yash yash yash yash yash yash yash yash yash yash yash yash yash yash yash yash yash yash yash yash yash yash yash yash yash yash yash yash yash yash yash yash yash yash yash yash yash yash yash yash yash yash yash yash yash yash yash yash yash yash yash yash yash yash yash yash yash yash yash yash yash yash yash yash yash yash yash yash yash yash yash yash yash yash yash yash yash yash yash yash yash yash yash yash yash yash yash yash yash yash yash yash yash yash yash yash yash yash yash yash yash yash yash yash yash yash yash yash yash yash yash yash yash yash yash yash yash yash yash yash yash yash yash yash yash yash yash yash yash yash yash yash yash yash yash yash yash yash yash yash yash yash yash yash yash yash yash yash yash yash yash yash yash yash yash yash yash yash yash yash yash yash yash yash yash yash yash yash yash yash yash yash yash yash yash yash yash yash yash yash yash yash yash yash yash yash yash yash yash yash yash yash yash yash yash yash yash yash yash yash yash yash yash yash yash yash yash yash yash yash yash yash yash yash yash yash yash yash yash yash yash yash yash yash yash yash yash yash yash yash yash yash yash yash yash yash yash yash yash yash yash yash yash yash yash yash yash yash yash yash yash yash yash yash yash yash yash yash yash yash yash yash yash yash yash yash yash yash yash yash yash yash yash yash yash yash yash yash yash yash yash yash yash yash yash yash yash yash yash yash yash yash yash yash yash yash yash yash yash yash yash yash yash yash yash yash yash yash yash yash yash yash yash yash yash yash yash yash yash yash yash yash yash yash yash yash yash yash yash yash yash yash yash yash yash yash yash yash yash yash yash yash yash yash yash yash yash yash yash yash yash yash yash yash yash yash yash yash yash yash yash yash yash yash yash yash yash yash yash yash yash yash yash yash yash yash yash yash yash yash yash yash yash yash yash yash yash yash yash yash yash yash yash yash yash yash yash yash yash yash yash yash yash yash yash yash yash yash yash yash yash yash yash yash yash yash yash yash yash yash yash yash yash yash yash yash yash yash yash yash yash yash yash yash yash yash yash yash yash yash yash yash yash yash yash yash yash yash yash yash yash yash yash yash yash yash yash yash yash yash yash yash yash yash yash yash yash yash yash yash yash yash yash yash yash yash yash yash yash yash yash yash yash yash yash yash yash yash yash yash yash yash yash yash yash yash yash yash yash yash yash yash yash yash \n"
     ]
    }
   ],
   "source": [
    "word = input(\"Enter a word: \")\n",
    "word += \" \"\n",
    "print(word * 1000)"
   ]
  },
  {
   "cell_type": "code",
   "execution_count": 2,
   "metadata": {},
   "outputs": [
    {
     "name": "stdout",
     "output_type": "stream",
     "text": [
      "yash patel\n"
     ]
    }
   ],
   "source": [
    "first = input(\"Enter the word: \")\n",
    "second = input(\"Enter the word: \")\n",
    "word = first + \" \" + second\n",
    "print(word)"
   ]
  },
  {
   "cell_type": "code",
   "execution_count": 3,
   "metadata": {},
   "outputs": [
    {
     "name": "stdout",
     "output_type": "stream",
     "text": [
      "Welcome!\n"
     ]
    }
   ],
   "source": [
    "word = input(\"Enter your password: \")\n",
    "\n",
    "if word == \"yash\":\n",
    "    print(\"Welcome!\")\n",
    "elif word == \"\":\n",
    "    print(\"You didn't enter anything.\")\n",
    "else:\n",
    "    print(f\"Access denied.\")"
   ]
  },
  {
   "cell_type": "code",
   "execution_count": 7,
   "metadata": {},
   "outputs": [
    {
     "name": "stdout",
     "output_type": "stream",
     "text": [
      "You entered a, b, c and d.\n"
     ]
    }
   ],
   "source": [
    "word1 = input(\"word1: \")\n",
    "word2 = input(\"word2: \")\n",
    "word3 = input(\"word3: \")\n",
    "word4 = input(\"word4: \")\n",
    "print(f\"You entered {word1}, {word2}, {word3} and {word4}.\")"
   ]
  },
  {
   "cell_type": "code",
   "execution_count": 4,
   "metadata": {},
   "outputs": [
    {
     "name": "stdout",
     "output_type": "stream",
     "text": [
      "YASH\n"
     ]
    }
   ],
   "source": [
    "# message = input(\"What do you want me to say? \")\n",
    "message = input(\"What do you want me to say?\").upper()\n",
    "# message = message.upper()\n",
    "print(message)"
   ]
  },
  {
   "cell_type": "code",
   "execution_count": 8,
   "metadata": {},
   "outputs": [
    {
     "name": "stdout",
     "output_type": "stream",
     "text": [
      "string is not palindrom\n"
     ]
    }
   ],
   "source": [
    "palindrome_input = input(\"Enter_string: \")\n",
    "if palindrome_input == palindrome_input[::-1]:\n",
    "    print(\"string is palindrom\")\n",
    "else:\n",
    "    print(\"string is not palindrom\")"
   ]
  },
  {
   "cell_type": "code",
   "execution_count": 16,
   "metadata": {},
   "outputs": [
    {
     "name": "stdout",
     "output_type": "stream",
     "text": [
      "['a', 'b', 'c', 'd', 'f']\n"
     ]
    }
   ],
   "source": [
    "namelist = ['a', 'b', 'c', 'd']\n",
    "# namelist.extend(['e'])\n",
    "namelist.append(\"f\")\n",
    "print(namelist)"
   ]
  },
  {
   "cell_type": "code",
   "execution_count": 20,
   "metadata": {},
   "outputs": [
    {
     "name": "stdout",
     "output_type": "stream",
     "text": [
      "[1, 2, 3, 4, 5, 6]\n"
     ]
    }
   ],
   "source": [
    "before = [[1,2],[3,4],[5,6]]\n",
    "after = []\n",
    "\n",
    "# for subline in before:\n",
    "#     for number in subline:\n",
    "#         after.append(number)\n",
    "\n",
    "for subline in before:\n",
    "    after.extend(subline)\n",
    "print(after)"
   ]
  },
  {
   "cell_type": "code",
   "execution_count": 31,
   "metadata": {},
   "outputs": [
    {
     "name": "stdout",
     "output_type": "stream",
     "text": [
      "[1, 2, 3]\n"
     ]
    }
   ],
   "source": [
    "numbers = ['1', '2', '3']\n",
    "converted_numbers = []\n",
    "for number in numbers:\n",
    "    converted_numbers.append(int(number))\n",
    "print(converted_numbers)"
   ]
  },
  {
   "cell_type": "code",
   "execution_count": 40,
   "metadata": {},
   "outputs": [
    {
     "name": "stdout",
     "output_type": "stream",
     "text": [
      "1 \n",
      "1 2 \n",
      "1 2 3 \n",
      "1 2 3 4 \n",
      "1 2 3 4 5 \n",
      "1 2 3 4 5 6 \n",
      "1 2 3 4 5 6 7 \n",
      "1 2 3 4 5 6 7 8 \n",
      "1 2 3 4 5 6 7 8 9 \n",
      "1 2 3 4 5 6 7 8 9 10 \n"
     ]
    }
   ],
   "source": [
    "row_count = int(input(\"Type the number of rows needed:\")) \n",
    "for column_count in range(1, row_count+1):\n",
    "    for number in range(1, column_count+1): \n",
    "        print(number, end=\" \") \n",
    "    print()"
   ]
  },
  {
   "cell_type": "code",
   "execution_count": 42,
   "metadata": {},
   "outputs": [
    {
     "name": "stdout",
     "output_type": "stream",
     "text": [
      "1 2 3 4 5 6 7 8 9 10 \n",
      "2 3 4 5 6 7 8 9 10 \n",
      "3 4 5 6 7 8 9 10 \n",
      "4 5 6 7 8 9 10 \n",
      "5 6 7 8 9 10 \n",
      "6 7 8 9 10 \n",
      "7 8 9 10 \n",
      "8 9 10 \n",
      "9 10 \n",
      "10 \n"
     ]
    }
   ],
   "source": [
    "row_count=int(input(\"Type the number of rows needed:\"))\n",
    " \n",
    "for line_number in range(1, row_count+1):\n",
    "    for number in range(line_number, row_count+1):\n",
    "        print(number, end=' ')\n",
    "    print()"
   ]
  },
  {
   "cell_type": "code",
   "execution_count": 48,
   "metadata": {},
   "outputs": [
    {
     "name": "stdout",
     "output_type": "stream",
     "text": [
      "Enter something, and press Enter without typing anything when you're done.\n",
      "Line 1 is: a\n",
      "Line 2 is: b\n",
      "Line 3 is: c\n",
      "Line 4 is: d\n"
     ]
    }
   ],
   "source": [
    "print(\"Enter something, and press Enter without typing anything\",\n",
    "      \"when you're done.\")\n",
    "\n",
    "lines = []\n",
    "while True:\n",
    "    line = input('>')\n",
    "    if line == '':\n",
    "        break\n",
    "    lines.append(line)\n",
    "\n",
    "for index, line in enumerate(lines, start=1):\n",
    "    print(\"Line\", index, \"is:\", line)"
   ]
  },
  {
   "cell_type": "code",
   "execution_count": 55,
   "metadata": {},
   "outputs": [
    {
     "name": "stdout",
     "output_type": "stream",
     "text": [
      "Your name is Yash\n"
     ]
    }
   ],
   "source": [
    "def ask_name():\n",
    "    name = input(\"Enter your name: \")\n",
    "    return name\n",
    "\n",
    "print(\"Your name is\", ask_name())"
   ]
  },
  {
   "cell_type": "code",
   "execution_count": 54,
   "metadata": {},
   "outputs": [
    {
     "name": "stdout",
     "output_type": "stream",
     "text": [
      "Hello World!\n"
     ]
    }
   ],
   "source": [
    "def get_greeting():\n",
    "    return \"Hello World!\"\n",
    "\n",
    "print(get_greeting())"
   ]
  },
  {
   "cell_type": "code",
   "execution_count": 62,
   "metadata": {},
   "outputs": [
    {
     "data": {
      "text/plain": [
       "<function print>"
      ]
     },
     "execution_count": 62,
     "metadata": {},
     "output_type": "execute_result"
    }
   ],
   "source": [
    "print"
   ]
  },
  {
   "cell_type": "code",
   "execution_count": 67,
   "metadata": {},
   "outputs": [
    {
     "name": "stdout",
     "output_type": "stream",
     "text": [
      "hello\n",
      "None\n"
     ]
    }
   ],
   "source": [
    "thingy = print('hello')\n",
    "print(thingy)"
   ]
  },
  {
   "cell_type": "code",
   "execution_count": 69,
   "metadata": {},
   "outputs": [
    {
     "name": "stdout",
     "output_type": "stream",
     "text": [
      "hello\n"
     ]
    }
   ],
   "source": [
    "stuff = print('hello')\n",
    "stuff"
   ]
  },
  {
   "cell_type": "code",
   "execution_count": 70,
   "metadata": {},
   "outputs": [
    {
     "name": "stdout",
     "output_type": "stream",
     "text": [
      "42 is an integer, and the value of pi is 3.14\n"
     ]
    }
   ],
   "source": [
    "print(42, \"is an integer, and the value of pi is\", 3.14)"
   ]
  },
  {
   "cell_type": "code",
   "execution_count": 72,
   "metadata": {},
   "outputs": [
    {
     "name": "stdout",
     "output_type": "stream",
     "text": [
      "It's not raining!\n"
     ]
    }
   ],
   "source": [
    "its_raining = False\n",
    "if its_raining:\n",
    "    print(\"It's raining!\")\n",
    "else:\n",
    "    print(\"It's not raining!\")"
   ]
  },
  {
   "cell_type": "code",
   "execution_count": 73,
   "metadata": {},
   "outputs": [
    {
     "name": "stdout",
     "output_type": "stream",
     "text": [
      "Hello!\n",
      "That's correct, welcome!\n"
     ]
    }
   ],
   "source": [
    "print(\"Hello!\")\n",
    "password = input(\"Enter your password: \")\n",
    "\n",
    "if password == \"123\":\n",
    "    print(\"That's correct, welcome!\")\n",
    "else:\n",
    "    print(\"Access denied.\")"
   ]
  },
  {
   "cell_type": "code",
   "execution_count": 79,
   "metadata": {},
   "outputs": [
    {
     "name": "stdout",
     "output_type": "stream",
     "text": [
      "hello\n"
     ]
    }
   ],
   "source": [
    "if 1 == 1:\n",
    "    print(\"hello\")\n",
    "elif 1 == 2:\n",
    "    print(\"this is weird\")\n",
    "else:\n",
    "    print(\"world\")"
   ]
  },
  {
   "cell_type": "code",
   "execution_count": 86,
   "metadata": {},
   "outputs": [
    {
     "name": "stdout",
     "output_type": "stream",
     "text": [
      "Hello!\n",
      "I don't know what hh means.\n"
     ]
    }
   ],
   "source": [
    "print('Hello!')\n",
    "something = input(\"Enter something: \")\n",
    "if something == 'hello':\n",
    "    print(\"Hello for you too!\")\n",
    "\n",
    "elif something == 'hi':\n",
    "    print('Hi there!')\n",
    "else:\n",
    "    print(\"I don't know what\", something, \"means.\")"
   ]
  },
  {
   "cell_type": "code",
   "execution_count": 87,
   "metadata": {},
   "outputs": [
    {
     "data": {
      "text/plain": [
       "'Hello World!'"
      ]
     },
     "execution_count": 87,
     "metadata": {},
     "output_type": "execute_result"
    }
   ],
   "source": [
    "our_string = \"Hello World!\"\n",
    "our_string"
   ]
  },
  {
   "cell_type": "code",
   "execution_count": 88,
   "metadata": {},
   "outputs": [
    {
     "data": {
      "text/plain": [
       "'llo'"
      ]
     },
     "execution_count": 88,
     "metadata": {},
     "output_type": "execute_result"
    }
   ],
   "source": [
    "our_string[2:5]"
   ]
  },
  {
   "cell_type": "code",
   "execution_count": 90,
   "metadata": {},
   "outputs": [
    {
     "data": {
      "text/plain": [
       "'lo W'"
      ]
     },
     "execution_count": 90,
     "metadata": {},
     "output_type": "execute_result"
    }
   ],
   "source": [
    "our_string[-9:-5]"
   ]
  },
  {
   "cell_type": "code",
   "execution_count": 93,
   "metadata": {},
   "outputs": [],
   "source": [
    "# our_string[1:]\n",
    "\n",
    "# our_string[:-1]"
   ]
  },
  {
   "cell_type": "code",
   "execution_count": 96,
   "metadata": {},
   "outputs": [
    {
     "data": {
      "text/plain": [
       "[1, 8, 27, 64, 125]"
      ]
     },
     "execution_count": 96,
     "metadata": {},
     "output_type": "execute_result"
    }
   ],
   "source": [
    "numbers = [1,2,3,4,5]\n",
    "numbers_squared = [number ** 3 for number in numbers]\n",
    "numbers_squared"
   ]
  },
  {
   "cell_type": "code",
   "execution_count": 97,
   "metadata": {},
   "outputs": [
    {
     "data": {
      "text/plain": [
       "['A', 'GG', 'C', 'D', 'e']"
      ]
     },
     "execution_count": 97,
     "metadata": {},
     "output_type": "execute_result"
    }
   ],
   "source": [
    "names = ['A', 'b', 'C', 'D', 'e']\n",
    "names[1] = 'GG'\n",
    "names"
   ]
  },
  {
   "cell_type": "code",
   "execution_count": 101,
   "metadata": {},
   "outputs": [
    {
     "data": {
      "text/plain": [
       "[1, 2, 3, 4]"
      ]
     },
     "execution_count": 101,
     "metadata": {},
     "output_type": "execute_result"
    }
   ],
   "source": [
    "a = [1, 2, 3]\n",
    "b = a\n",
    "b.append(4)\n",
    "a"
   ]
  },
  {
   "cell_type": "code",
   "execution_count": 105,
   "metadata": {},
   "outputs": [
    {
     "name": "stdout",
     "output_type": "stream",
     "text": [
      "I know you!\n"
     ]
    }
   ],
   "source": [
    "namelist = ['aa', 'bb', 'cc', 'dd']\n",
    "if input(\"Enter your name: \") in namelist:\n",
    "    print(\"I know you!\")\n",
    "else:\n",
    "    print(\"I don't know you.\")"
   ]
  },
  {
   "cell_type": "code",
   "execution_count": 107,
   "metadata": {},
   "outputs": [
    {
     "name": "stdout",
     "output_type": "stream",
     "text": [
      "It's raining!\n",
      "Oh well...\n",
      "It's raining!\n",
      "It's not raining anymore.\n"
     ]
    }
   ],
   "source": [
    "its_raining = True\n",
    "while its_raining:\n",
    "    print(\"It's raining!\")\n",
    "    answer = input(\"Or is it? (y=yes, n=no) \")\n",
    "    if answer == 'y':\n",
    "        print(\"Oh well...\")\n",
    "    elif answer == 'n':\n",
    "        its_raining = False\n",
    "    else:\n",
    "        print(\"Enter y or n next time.\")\n",
    "print(\"It's not raining anymore.\")"
   ]
  },
  {
   "cell_type": "code",
   "execution_count": 112,
   "metadata": {},
   "outputs": [
    {
     "name": "stdout",
     "output_type": "stream",
     "text": [
      "a\n",
      "b\n",
      "c\n",
      "d\n",
      "e\n",
      "f\n"
     ]
    }
   ],
   "source": [
    "stuff = ['a','b','c','d','e','f']\n",
    "# length_of_stuff = len(stuff)\n",
    "# index=0\n",
    "# while index < length_of_stuff:\n",
    "#     print(stuff[index])\n",
    "#     index += 1\n",
    "for things in stuff:\n",
    "    print(things)"
   ]
  },
  {
   "cell_type": "code",
   "execution_count": 114,
   "metadata": {},
   "outputs": [
    {
     "name": "stdout",
     "output_type": "stream",
     "text": [
      "Y\n",
      "a\n",
      "s\n",
      "h\n"
     ]
    }
   ],
   "source": [
    "for short_string in 'Yash':\n",
    "     print(short_string)"
   ]
  },
  {
   "cell_type": "code",
   "execution_count": 121,
   "metadata": {},
   "outputs": [
    {
     "name": "stdout",
     "output_type": "stream",
     "text": [
      "a 1\n",
      "b 2\n",
      "c 3\n"
     ]
    }
   ],
   "source": [
    "items = [('a', 1), ('b', 2), ('c', 3)]\n",
    "# for pair in items:\n",
    "#      a, b = pair\n",
    "#      print(a, b)\n",
    "\n",
    "for a,b in items:\n",
    "    print(a,b)"
   ]
  },
  {
   "cell_type": "code",
   "execution_count": 123,
   "metadata": {},
   "outputs": [
    {
     "name": "stdout",
     "output_type": "stream",
     "text": [
      "Roll number of AA is 20\n",
      "Roll number of BB is 25\n",
      "Roll number of CC is 28\n"
     ]
    }
   ],
   "source": [
    "roll_nums = [20, 25, 28]\n",
    "students = [\"AA\", \"BB\", \"CC\"]\n",
    "for roll_num, student in zip(roll_nums, students):\n",
    "    print(f\"Roll number of {student} is {roll_num}\")"
   ]
  },
  {
   "cell_type": "code",
   "execution_count": 124,
   "metadata": {},
   "outputs": [
    {
     "name": "stdout",
     "output_type": "stream",
     "text": [
      "Index of 2 is 0\n",
      "Index of 4 is 1\n",
      "Index of 6 is 2\n",
      "Index of 8 is 3\n",
      "Index of 10 is 4\n",
      "Index of 12 is 5\n"
     ]
    }
   ],
   "source": [
    "even_nums = [2, 4, 6, 8, 10, 12]\n",
    "for index, item in enumerate(even_nums):\n",
    "    print(f\"Index of {item} is {index}\")"
   ]
  },
  {
   "cell_type": "code",
   "execution_count": 125,
   "metadata": {},
   "outputs": [
    {
     "name": "stdout",
     "output_type": "stream",
     "text": [
      "A a\n",
      "B b\n",
      "C c\n",
      "D d\n",
      "E e\n",
      "F f\n",
      "G g\n",
      "H h\n",
      "I i\n",
      "J j\n",
      "K k\n",
      "L l\n",
      "M m\n",
      "N n\n",
      "O o\n",
      "P p\n",
      "Q q\n",
      "R r\n",
      "S s\n",
      "T t\n",
      "U u\n",
      "V v\n",
      "W w\n",
      "X x\n",
      "Y y\n",
      "Z z\n"
     ]
    }
   ],
   "source": [
    "uppercase = 'ABCDEFGHIJKLMNOPQRSTUVWXYZ'\n",
    "lowercase = 'abcdefghijklmnopqrstuvwxyz'\n",
    "\n",
    "for upper, lower in zip(uppercase, lowercase):\n",
    "    print(upper, lower)"
   ]
  },
  {
   "cell_type": "code",
   "execution_count": 126,
   "metadata": {},
   "outputs": [
    {
     "name": "stdout",
     "output_type": "stream",
     "text": [
      "1 A a\n",
      "2 B b\n",
      "3 C c\n",
      "4 D d\n",
      "5 E e\n",
      "6 F f\n",
      "7 G g\n",
      "8 H h\n",
      "9 I i\n",
      "10 J j\n",
      "11 K k\n",
      "12 L l\n",
      "13 M m\n",
      "14 N n\n",
      "15 O o\n",
      "16 P p\n",
      "17 Q q\n",
      "18 R r\n",
      "19 S s\n",
      "20 T t\n",
      "21 U u\n",
      "22 V v\n",
      "23 W w\n",
      "24 X x\n",
      "25 Y y\n",
      "26 Z z\n"
     ]
    }
   ],
   "source": [
    "uppercase = 'ABCDEFGHIJKLMNOPQRSTUVWXYZ'\n",
    "lowercase = 'abcdefghijklmnopqrstuvwxyz'\n",
    "\n",
    "for index, letterpair in enumerate(zip(uppercase, lowercase), start=1):\n",
    "    upper, lower = letterpair\n",
    "    print(index, upper, lower)"
   ]
  },
  {
   "cell_type": "code",
   "execution_count": null,
   "metadata": {},
   "outputs": [],
   "source": []
  }
 ],
 "metadata": {
  "kernelspec": {
   "display_name": "Python 3",
   "language": "python",
   "name": "python3"
  },
  "language_info": {
   "codemirror_mode": {
    "name": "ipython",
    "version": 3
   },
   "file_extension": ".py",
   "mimetype": "text/x-python",
   "name": "python",
   "nbconvert_exporter": "python",
   "pygments_lexer": "ipython3",
   "version": "3.8.10"
  }
 },
 "nbformat": 4,
 "nbformat_minor": 2
}
